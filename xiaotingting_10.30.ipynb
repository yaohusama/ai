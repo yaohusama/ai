{
 "cells": [
  {
   "cell_type": "markdown",
   "metadata": {},
   "source": [
    "1、给定一个字符串，找出不含有重复字符的最长子串的长度和最长字符串。\n",
    "示例：\n",
    "给定“abcabcbb”，最长子串是“abc”，”bca”,”cab”，那么长度就是3。\n",
    "给定“bbbbb”，最长的子串就是“b”，长度是1。\n",
    "给定“pwwkew”，最长子串是“wke”，“kew”，长度是3。"
   ]
  },
  {
   "cell_type": "code",
   "execution_count": 44,
   "metadata": {},
   "outputs": [
    {
     "name": "stdout",
     "output_type": "stream",
     "text": [
      "3\n",
      "['abc', 'bca', 'cab']\n"
     ]
    }
   ],
   "source": [
    "st='abcabcbb'\n",
    "res={st[i:j]:len(st[i:j])  for i in range(len(st)) for  j in range(i+1,len(st)) if len(st[i:j])==len(set(st[i:j])) }\n",
    "print(max(res.values()))\n",
    "print(list(filter(lambda x:res[x]==max(res.values()),res)))"
   ]
  },
  {
   "cell_type": "markdown",
   "metadata": {},
   "source": [
    "2、给定一个序列，计算任意个连续元素的最大平均值和其中的元素。\n",
    "示例：\n",
    "输入:序列list=[1,2,3,3,4,8,5,7],k=2\n",
    "输出：最大平均值：（8+5）/2=6.5   元素为：[8,5]"
   ]
  },
  {
   "cell_type": "code",
   "execution_count": 47,
   "metadata": {},
   "outputs": [
    {
     "name": "stdout",
     "output_type": "stream",
     "text": [
      "6.5\n",
      "[(8, 5)]\n"
     ]
    }
   ],
   "source": [
    "st=[1,2,3,3,4,8,5,7]\n",
    "k=2\n",
    "res={tuple(st[i:i+k]):sum(st[i:i+k])*1.0/k  for i in range(len(st))  if i+k<=len(st)  }\n",
    "print(max(res.values()))\n",
    "print(list(filter(lambda x:res[x]==max(res.values()),res)))"
   ]
  },
  {
   "cell_type": "markdown",
   "metadata": {},
   "source": [
    "3、反转一个整数。\n",
    "示例：\n",
    "输入：-123 输出：-321\n",
    "输入：34   输出：43"
   ]
  },
  {
   "cell_type": "code",
   "execution_count": 54,
   "metadata": {},
   "outputs": [
    {
     "name": "stdout",
     "output_type": "stream",
     "text": [
      "-321\n"
     ]
    }
   ],
   "source": [
    "st=-123\n",
    "st1=abs(st)\n",
    "g=''\n",
    "if st<0 :\n",
    "    g='-'\n",
    "while st1!=0:\n",
    "    g=g+str(st1%10)\n",
    "    st1=int(st1/10)   \n",
    "print(g)"
   ]
  },
  {
   "cell_type": "markdown",
   "metadata": {},
   "source": [
    "4、装饰器\n",
    "1）设计一个能计算任意个整数平均值的函数。\n",
    "实例：\n",
    "输入：1,2,3  输出：2\n",
    "输入：-1,4,8 输出：3.66666666666.....\n",
    "2)设计一个装饰器，对上一个函数的参数进行校验，把字符串类型数据（‘123’）和浮点型数据（10.3）转换为整数（123,10.3）。\n",
    "设计一个装饰器，对第一个函数的返回值进行转换，保留2位小数点。"
   ]
  },
  {
   "cell_type": "code",
   "execution_count": 66,
   "metadata": {},
   "outputs": [
    {
     "name": "stdout",
     "output_type": "stream",
     "text": [
      "3.67\n",
      "3.44\n"
     ]
    }
   ],
   "source": [
    "from decimal import Decimal\n",
    "def check_int(func):\n",
    "    def wrapper(*args):\n",
    "        if args:\n",
    "            args=tuple([int(x) for x in args])\n",
    "        return func(*args)\n",
    "    return wrapper\n",
    "def liangwei(func):\n",
    "    def gg(*args):\n",
    "        return round(func(*args),2)\n",
    "    return gg\n",
    "@check_int\n",
    "@liangwei\n",
    "def av(*args):\n",
    "    return sum(args)/len(args)\n",
    "print(av(-1,'4',8.3))"
   ]
  },
  {
   "cell_type": "markdown",
   "metadata": {},
   "source": [
    "5、魔术方法\n",
    "设计一个类能让两个列表使用比较运算符的形式进行比较。\n",
    "List1 = [1,2,3,[1,2],’a’]\n",
    "List2 = [1,[‘1’,8],,[1,2],’a’]\n",
    "注意：只关注列表中的数字类型元素，不包含字符串\n",
    "如List1 > List2  1+2+3+1+2>1+8+1+2 返回false\n",
    "List1 < List2  1+2+3+1+2<1+8+1+2 返回True\n",
    "List1 == List2  1+2+3+1+2==1+8+1+2 返回false\n",
    "实现以上3个比较符的魔术方法。\n"
   ]
  },
  {
   "cell_type": "code",
   "execution_count": 11,
   "metadata": {},
   "outputs": [
    {
     "name": "stdout",
     "output_type": "stream",
     "text": [
      "True\n",
      "False\n",
      "False\n"
     ]
    }
   ],
   "source": [
    "import numpy\n",
    "new_list=[]\n",
    "def yapin(a):\n",
    "    for i in a:\n",
    "        if isinstance(i,list):\n",
    "            yapin(i)\n",
    "        else :\n",
    "            new_list.append(i)\n",
    "    return new_list\n",
    "class Person():\n",
    "    def __init__(self,li):\n",
    "        self.li=li\n",
    "        self.num=sum(list(filter(lambda x:isinstance(x,int)==1 ,yapin(list(li)))))#判断是否是数字\n",
    "    def __eq__(self,other):\n",
    "        if self.num==other.num :\n",
    "            return True\n",
    "        else:\n",
    "            return False\n",
    "\n",
    "\n",
    "    def __lt__(self,other):\n",
    "        if self.num < other.num:\n",
    "            return True\n",
    "        else:\n",
    "            return False\n",
    "\n",
    "    def __gt__(self,other):\n",
    "        if self.num>other.num:\n",
    "            return True\n",
    "        else:\n",
    "            return False\n",
    "p1=Person( [1,2,3,[1,2],'a'])  \n",
    "p2=Person( [1,['1',8],[1,2],'a'])\n",
    "print(p1<p2)\n",
    "print(p1==p2)\n",
    "print(p1>p2)"
   ]
  },
  {
   "cell_type": "code",
   "execution_count": null,
   "metadata": {},
   "outputs": [],
   "source": []
  }
 ],
 "metadata": {
  "kernelspec": {
   "display_name": "Python 3",
   "language": "python",
   "name": "python3"
  },
  "language_info": {
   "codemirror_mode": {
    "name": "ipython",
    "version": 3
   },
   "file_extension": ".py",
   "mimetype": "text/x-python",
   "name": "python",
   "nbconvert_exporter": "python",
   "pygments_lexer": "ipython3",
   "version": "3.7.0"
  }
 },
 "nbformat": 4,
 "nbformat_minor": 4
}
