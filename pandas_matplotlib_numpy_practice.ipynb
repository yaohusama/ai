{
 "cells": [
  {
   "cell_type": "markdown",
   "metadata": {},
   "source": [
    "1、字符串中有括号”()[]{}”，设计一个程序，判断该字符串是否有效\n",
    "括号必须以正确的顺序配对，如：“()”、“()[]”是有效的，但“([)]”无效。"
   ]
  },
  {
   "cell_type": "code",
   "execution_count": 3,
   "metadata": {},
   "outputs": [
    {
     "name": "stdout",
     "output_type": "stream",
     "text": [
      "无效\n"
     ]
    }
   ],
   "source": [
    "import numpy\n",
    "st='([)]'\n",
    "st1='()[]{}'\n",
    "flag=1\n",
    "flag1=1\n",
    "i=0\n",
    "while i<len(st)-1:\n",
    "    if st[i+1]!=st1[st1.index(st[i])+1]:\n",
    "        flag=0\n",
    "        break\n",
    "    i+=2\n",
    "if flag:\n",
    "    print('有效')\n",
    "else :\n",
    "    print('无效')"
   ]
  },
  {
   "cell_type": "markdown",
   "metadata": {},
   "source": [
    "numpy练习\n",
    "1、a=np.arange(10).reshape(2,-1) \n",
    "b=np.arange(24).reshape(2,-1,4) \n",
    "1）a中的-1代表多少？\n",
    "2）B中的-1代表多少？"
   ]
  },
  {
   "cell_type": "markdown",
   "metadata": {},
   "source": [
    "+ 5\n",
    "+ 3"
   ]
  },
  {
   "cell_type": "markdown",
   "metadata": {},
   "source": [
    "2、a=np.array([1,2,3,4],[5,6,7,8],[9,10,11,12])\n",
    "1）通过numpy切片如何获取切片后的数组为b=np.array([1,3],[9,11])\n",
    "  2）c=a[1::2,:2],c 的结果为？\n",
    "  3）获取a数组中大于4的索引\n",
    "  4）分别计算a数组中行，列的最小值。"
   ]
  },
  {
   "cell_type": "code",
   "execution_count": 23,
   "metadata": {},
   "outputs": [
    {
     "name": "stdout",
     "output_type": "stream",
     "text": [
      "[[ 1  3]\n",
      " [ 9 11]]\n",
      "----------\n",
      "[[5 6]]\n",
      "----------\n",
      "(array([1, 1, 1, 1, 2, 2, 2, 2], dtype=int64), array([0, 1, 2, 3, 0, 1, 2, 3], dtype=int64))\n",
      "----------\n",
      "[[ 1  2  3  4]\n",
      " [ 5  6  7  8]\n",
      " [ 9 10 11 12]]\n",
      "[1, 5, 9]\n",
      "[1, 2, 3, 4]\n"
     ]
    }
   ],
   "source": [
    "import numpy as np\n",
    "a=np.array([[1,2,3,4],[5,6,7,8],[9,10,11,12]])\n",
    "b=a[::2,::2]\n",
    "print(b)\n",
    "c=a[1::2,:2]\n",
    "print('----------')\n",
    "print(c)\n",
    "print('----------')\n",
    "print(np.where(a>4))\n",
    "print('----------')\n",
    "print(a)\n",
    "print(list(np.min(a,axis=1)))#按列\n",
    "print(list(np.min(a,axis=0)))#按行"
   ]
  },
  {
   "cell_type": "markdown",
   "metadata": {},
   "source": [
    "3、a = np.array([1,2,3,4],[5,6,7,8],[9,10,11,12])\n",
    "  如何实现a数组的转置，请用多种方法实现"
   ]
  },
  {
   "cell_type": "code",
   "execution_count": 26,
   "metadata": {},
   "outputs": [
    {
     "name": "stdout",
     "output_type": "stream",
     "text": [
      "[[ 1  5  9]\n",
      " [ 2  6 10]\n",
      " [ 3  7 11]\n",
      " [ 4  8 12]]\n",
      "[[ 1  5  9]\n",
      " [ 2  6 10]\n",
      " [ 3  7 11]\n",
      " [ 4  8 12]]\n",
      "[[ 1  5  9]\n",
      " [ 2  6 10]\n",
      " [ 3  7 11]\n",
      " [ 4  8 12]]\n"
     ]
    }
   ],
   "source": [
    "a=np.array([[1,2,3,4],[5,6,7,8],[9,10,11,12]])\n",
    "print(a.T)\n",
    "print(np.transpose(a))\n",
    "print(a.swapaxes(0,1))"
   ]
  },
  {
   "cell_type": "raw",
   "metadata": {},
   "source": [
    "Pandas练习\n",
    "1、读取csv文件数据，数据格式如下表\n",
    "城市\t薪资\t房价\t人数\n",
    "北京\t10000\t54670\t200000\n",
    "上海\t9800\t48060\t180000\n",
    "深圳\t11000\t47000\t150000"
   ]
  },
  {
   "cell_type": "code",
   "execution_count": 43,
   "metadata": {},
   "outputs": [
    {
     "name": "stdout",
     "output_type": "stream",
     "text": [
      "D:\\xiaoxiao\\code\\data_xinzi.csv\n",
      "   城市     薪资     房价      人数\n",
      "0  北京  10000  54670  200000\n",
      "1  上海   9800  48060  180000\n",
      "2  深圳  11000  47000  150000\n"
     ]
    }
   ],
   "source": [
    "#coding=utf-8\n",
    "import pandas as pd\n",
    "import os \n",
    "path=os.path.join(os.getcwd(),'data_xinzi.csv')\n",
    "print(path)\n",
    "f1=pd.read_csv(path,encoding='gbk')#必须加encoding='gbk'，而utf-8不行\n",
    "print(f1)"
   ]
  },
  {
   "cell_type": "raw",
   "metadata": {},
   "source": [
    " 2、使用pandas计算\n",
    "1）三个城市的平均薪资，平均房价，平均人数\n",
    "2）计算薪资最高城市，房价最低的城市，人数最少的城市\n",
    "3）筛选出房价大于48000的城市\n",
    "4）使用索引只有城市和人数的数据"
   ]
  },
  {
   "cell_type": "code",
   "execution_count": 58,
   "metadata": {},
   "outputs": [
    {
     "name": "stdout",
     "output_type": "stream",
     "text": [
      "<class 'pandas.core.frame.DataFrame'>\n",
      "薪资     10266.666667\n",
      "房价     49910.000000\n",
      "人数    176666.666667\n",
      "dtype: float64\n",
      "0    北京\n",
      "1    上海\n",
      "Name: 城市, dtype: object\n",
      "   城市      人数\n",
      "0  北京  200000\n",
      "1  上海  180000\n",
      "2  深圳  150000\n"
     ]
    }
   ],
   "source": [
    "print(type(f1))#默认read_csv返回的就是DataFrame\n",
    "print(np.mean(f1[['薪资','房价','人数']]))#可以用中文,要用两个方括号\n",
    "print(f1[f1.房价>48000].城市)\n",
    "data1=f1[['城市','人数']]\n",
    "print(data1)"
   ]
  },
  {
   "cell_type": "raw",
   "metadata": {},
   "source": [
    "matplotlib练习\n",
    "1、折线图\n",
    "   要求：1）用pandas读取航班乘客数据.xlsx。\n",
    "2）用matplotlib做年度乘客总量变化情况折线图。\n",
    "3）保存折线图图片，如下图所示。"
   ]
  },
  {
   "cell_type": "code",
   "execution_count": 78,
   "metadata": {},
   "outputs": [
    {
     "name": "stdout",
     "output_type": "stream",
     "text": [
      "      年份  月份  乘客数量\n",
      "0   1949   1   112\n",
      "1   1949   2   118\n",
      "2   1949   3   132\n",
      "3   1949   4   129\n",
      "4   1949   5    90\n",
      "5   1949   6    68\n",
      "6   1949   7   118\n",
      "7   1949   8   132\n",
      "8   1949   9    77\n",
      "9   1949  10   100\n",
      "10  1949  11    77\n",
      "11  1949  12   100\n",
      "12  1950   1   112\n",
      "13  1950   2   113\n",
      "14  1950   3   114\n",
      "15  1950   4   115\n",
      "16  1950   5   116\n",
      "17  1950   6   117\n",
      "18  1950   7   118\n",
      "19  1950   8   119\n",
      "20  1950   9   120\n",
      "21  1950  10   121\n",
      "22  1950  11   122\n",
      "23  1950  12   123\n",
      "24  1951   1   120\n",
      "25  1951   2   121\n",
      "26  1951   3   122\n",
      "27  1951   4   123\n",
      "28  1951   5   124\n",
      "29  1951   6   125\n",
      "30  1951   7   126\n",
      "31  1951   8   127\n",
      "32  1951   9   128\n",
      "33  1951  10   129\n",
      "34  1951  11   130\n",
      "35  1951  12   131\n",
      "36  1952   1   140\n",
      "37  1952   2   141\n",
      "38  1952   3   142\n",
      "39  1952   4   143\n",
      "40  1952   5   144\n",
      "41  1952   6   145\n",
      "42  1952   7   146\n",
      "43  1952   8   147\n",
      "44  1952   9   148\n",
      "45  1952  10   149\n",
      "46  1952  11   150\n",
      "47  1952  12   151\n",
      "48  1953   1   104\n",
      "49  1953   2   105\n",
      "50  1953   3   106\n",
      "51  1953   4   107\n",
      "52  1953   5   108\n",
      "53  1953   6   109\n",
      "54  1953   7   110\n",
      "55  1953   8   111\n",
      "56  1953   9   112\n",
      "57  1953  10   113\n",
      "58  1953  11   114\n",
      "59  1953  12   115\n"
     ]
    },
    {
     "data": {
      "image/png": "[encoded data removed]",
      "text/plain": [
       "<Figure size 432x288 with 1 Axes>"
      ]
     },
     "metadata": {
      "needs_background": "light"
     },
     "output_type": "display_data"
    }
   ],
   "source": [
    "f2=pd.read_excel('航班乘客数据.xlsx')#read_excel用法\n",
    "print(f2)\n",
    "data2=[]\n",
    "for i in np.arange(1949,1954):\n",
    "    data2.append(sum(f2[(f2.年份==i)].乘客数量))\n",
    "data3=pd.DataFrame(data2,columns=['乘客数量'],index=np.arange(1949,1954))\n",
    "import matplotlib.pyplot as plt\n",
    "from pylab import mpl\n",
    "mpl.rcParams['font.sans-serif'] = ['FangSong'] # 指定默认字体\n",
    "mpl.rcParams['axes.unicode_minus'] = False # 解决保存图像是负号'-'显示为方块的问题\n",
    "plt.figure()#定义一个图像窗口\n",
    "plt.plot(data3.index,data3.乘客数量)\n",
    "plt.title('乘客年度数量变化情况')\n",
    "plt.xlabel('年度')\n",
    "plt.ylabel('乘客数量')\n",
    "plt.savefig('./hangkeniandu.png')#保存图片\n",
    "plt.show()"
   ]
  },
  {
   "cell_type": "raw",
   "metadata": {},
   "source": [
    "2、条形图\n",
    "要求：\n",
    "1）用pandas读取航班乘客数据.xlsx。\n",
    "2）用matplotlib做月度乘客总量变化情况折线图。\n",
    "3）保存折线图图片，如下图所示。"
   ]
  },
  {
   "cell_type": "code",
   "execution_count": 79,
   "metadata": {},
   "outputs": [
    {
     "data": {
      "image/png": "[encoded data removed]",
      "text/plain": [
       "<Figure size 432x288 with 1 Axes>"
      ]
     },
     "metadata": {
      "needs_background": "light"
     },
     "output_type": "display_data"
    }
   ],
   "source": [
    "data4=[]\n",
    "for i in np.arange(1,13):\n",
    "    data4.append(sum(f2[(f2.月份==i)].乘客数量))\n",
    "data5=pd.DataFrame(data4,columns=['乘客数量'],index=np.arange(1,13))\n",
    "plt.figure()#定义一个图像窗口\n",
    "plt.bar(data5.index,data5.乘客数量)\n",
    "plt.title('乘客月度数量变化情况')\n",
    "plt.xlabel('月份')\n",
    "plt.ylabel('乘客数量')\n",
    "plt.savefig('./hangkeyuedu.png')#保存图片\n",
    "plt.show()"
   ]
  },
  {
   "cell_type": "code",
   "execution_count": null,
   "metadata": {},
   "outputs": [],
   "source": []
  }
 ],
 "metadata": {
  "kernelspec": {
   "display_name": "Python 3",
   "language": "python",
   "name": "python3"
  },
  "language_info": {
   "codemirror_mode": {
    "name": "ipython",
    "version": 3
   },
   "file_extension": ".py",
   "mimetype": "text/x-python",
   "name": "python",
   "nbconvert_exporter": "python",
   "pygments_lexer": "ipython3",
   "version": "3.7.0"
  }
 },
 "nbformat": 4,
 "nbformat_minor": 2
}
