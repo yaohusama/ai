{
 "cells": [
  {
   "cell_type": "markdown",
   "metadata": {},
   "source": [
    "1. 使用正则表达式取出字符串中所有的天气状态，string = \"{ymd:'2018-01-01',tianqi:'晴',aqiInfo:'轻度污染'},{ymd:'2018-01-02',tianqi:'阴~小雨',aqiInfo:'优'},{ymd:'2018-01-03',tianqi:'小雨~中雨',aqiInfo:'优'},{ymd:'2018-01-04',tianqi:'中雨~小雨',aqiInfo:'优'}\"\n",
    "提取结果为：['晴', '阴~小雨', '小雨~中雨', '中雨~小雨']"
   ]
  },
  {
   "cell_type": "code",
   "execution_count": 10,
   "metadata": {},
   "outputs": [
    {
     "name": "stdout",
     "output_type": "stream",
     "text": [
      "['晴', '阴~小雨', '小雨~中雨', '中雨~小雨']\n"
     ]
    }
   ],
   "source": [
    "import re\n",
    "st = \"{ymd:'2018-01-01',tianqi:'晴',aqiInfo:'轻度污染'},{ymd:'2018-01-02',tianqi:'阴~小雨',aqiInfo:'优'},{ymd:'2018-01-03',tianqi:'小雨~中雨',aqiInfo:'优'},{ymd:'2018-01-04',tianqi:'中雨~小雨',aqiInfo:'优'}\"\n",
    "s1=r\"tianqi:\\'([^a-zA-Z,']*)\"\n",
    "res1=re.findall(s1,st)\n",
    "print(list(res1))"
   ]
  },
  {
   "cell_type": "markdown",
   "metadata": {},
   "source": [
    "2、使用正则表达式取出string中所有含O字母的单词string = “Together, we discovered that a free market only thrives when there are rules to ensure competition and fair play”\n",
    "注意不区分大小写\n"
   ]
  },
  {
   "cell_type": "code",
   "execution_count": 26,
   "metadata": {},
   "outputs": [
    {
     "name": "stdout",
     "output_type": "stream",
     "text": [
      "['Together', 'discovered', 'only', 'to', 'competition']\n"
     ]
    }
   ],
   "source": [
    "import re\n",
    "st =\"Together, we discovered that a free market only thrives when there are rules to ensure competition and fair play\"\n",
    "s1=r\"([a-zA-Z]*o[a-zA-Z]*|[a-zA-Z]*O[a-zA-Z]*)\"\n",
    "res1=re.findall(s1,st)\n",
    "print(list(res1))"
   ]
  },
  {
   "cell_type": "markdown",
   "metadata": {},
   "source": [
    "3、使用正则表达式将字符串中的标点符号、数字和字母删除string=\"据悉，这次发运的4台蒸汽冷凝罐属于国际热核聚变实验堆（ITER）项目的核二级压力设备，先后完成了压力试验、真空试验、氦气检漏试验、千斤顶试验、吊耳载荷试验、叠装试验等验收试验。\""
   ]
  },
  {
   "cell_type": "code",
   "execution_count": 30,
   "metadata": {},
   "outputs": [
    {
     "name": "stdout",
     "output_type": "stream",
     "text": [
      "据悉这次发运的台蒸汽冷凝罐属于国际热核聚变实验堆项目的核二级压力设备先后完成了压力试验真空试验氦气检漏试验千斤顶试验吊耳载荷试验叠装试验等验收试验\n"
     ]
    }
   ],
   "source": [
    "import re\n",
    "st=\"据悉，这次发运的4台蒸汽冷凝罐属于国际热核聚变实验堆（ITER）项目的核二级压力设备，先后完成了压力试验、真空试验、氦气检漏试验、千斤顶试验、吊耳载荷试验、叠装试验等验收试验。\"\n",
    "s1=r\"([\\u4e00-\\u9fa5]+)\"\n",
    "res1=re.findall(s1,st)\n",
    "print(''.join(res1))"
   ]
  },
  {
   "cell_type": "markdown",
   "metadata": {},
   "source": [
    "4、使用正则表达式将字符串中的每个子部分内容分割开string = “2室2厅 | 101.62平 | 低区/7层 | 朝南 上海未来 - 浦东 - 金杨 - 2005年建”\n",
    "提取结果为：['2室2厅', '101.62平', '低区/7层', '朝南 上海未来', '浦东', '金杨', '2005年建']\n"
   ]
  },
  {
   "cell_type": "code",
   "execution_count": 34,
   "metadata": {},
   "outputs": [
    {
     "name": "stdout",
     "output_type": "stream",
     "text": [
      "['2室2厅 ', ' 101.62平 ', ' 低区/7层 ', ' 朝南 上海未来 ', ' 浦东 ', ' 金杨 ', ' 2005年建']\n"
     ]
    }
   ],
   "source": [
    "import re\n",
    "st= \"2室2厅 | 101.62平 | 低区/7层 | 朝南 上海未来 - 浦东 - 金杨 - 2005年建\"\n",
    "s1=r\"([^|-]+)\"\n",
    "res1=re.findall(s1,st)\n",
    "print((res1))"
   ]
  },
  {
   "cell_type": "markdown",
   "metadata": {},
   "source": [
    "5、将以下字符串中所有的邮箱匹配出来\n",
    "str = '''313156566@qq.com\n",
    "hjasd23@163.com\n",
    "http://www.abc.com.cn\n",
    "https://www.sae.com\n",
    "ftp://www.nnn.org\n",
    "ftps://www.jksad.net'''\n",
    "匹配结果为:[‘313156566@qq.com’,‘hjasd23@163.com’]\n"
   ]
  },
  {
   "cell_type": "code",
   "execution_count": 35,
   "metadata": {},
   "outputs": [
    {
     "name": "stdout",
     "output_type": "stream",
     "text": [
      "['313156566@qq.com', 'hjasd23@163.com']\n"
     ]
    }
   ],
   "source": [
    "import re\n",
    "st= '''313156566@qq.com\n",
    "hjasd23@163.com\n",
    "http://www.abc.com.cn\n",
    "https://www.sae.com\n",
    "ftp://www.nnn.org\n",
    "ftps://www.jksad.net'''\n",
    "s1=r\"(.*@.*)\"\n",
    "res1=re.findall(s1,st)\n",
    "print((res1))"
   ]
  },
  {
   "cell_type": "markdown",
   "metadata": {},
   "source": [
    "6、通过正则表达式把img标签中的src路径匹配出来\n",
    "str='''\n",
    "<img name=\"photo\" src=\"../public/img/img1.png\" />\n",
    "<img name='news' src='xxx.jpg' title='news' /> \n",
    "'''\n",
    "匹配结果为:[‘../public/img/img1.png’,‘xxx.jpg' title='news’]\n"
   ]
  },
  {
   "cell_type": "code",
   "execution_count": 41,
   "metadata": {},
   "outputs": [
    {
     "name": "stdout",
     "output_type": "stream",
     "text": [
      "['../public/img/img1.png', 'xxx.jpg']\n"
     ]
    }
   ],
   "source": [
    "import re\n",
    "st='''\n",
    "<img name=\"photo\" src=\"../public/img/img1.png\" />\n",
    "<img name='news' src='xxx.jpg' title='news' /> \n",
    "'''\n",
    "s1=\"src=[\\'\\\"]([^\\\"\\']*)\"\n",
    "res1=re.findall(s1,st)\n",
    "print((res1))"
   ]
  },
  {
   "cell_type": "markdown",
   "metadata": {},
   "source": [
    "7、使用正则表达式将电话号码13811119999变成138****9999"
   ]
  },
  {
   "cell_type": "code",
   "execution_count": 51,
   "metadata": {},
   "outputs": [
    {
     "name": "stdout",
     "output_type": "stream",
     "text": [
      "138****9999\n"
     ]
    }
   ],
   "source": [
    "import re\n",
    "st=\"13811119999\"\n",
    "s1=re.compile(\"(\\d{3})\\d{4}(\\d{4})\")\n",
    "s2=r\"\\1****\\2\"\n",
    "res1=s1.sub(s2,st)\n",
    "print((res1))"
   ]
  },
  {
   "cell_type": "markdown",
   "metadata": {},
   "source": [
    "8、判断以下字符是否全是中文(中文正则模式[\\u4E00-\\u9FA5])\n",
    "str='广东省广州市'\n"
   ]
  },
  {
   "cell_type": "code",
   "execution_count": 52,
   "metadata": {},
   "outputs": [
    {
     "name": "stdout",
     "output_type": "stream",
     "text": [
      "<re.Match object; span=(0, 6), match='广东省广州市'>\n"
     ]
    }
   ],
   "source": [
    "import re\n",
    "st='广东省广州市'\n",
    "s1=r\"[\\u4e00-\\u9fa5]*\"\n",
    "res1=re.fullmatch(s1,st)\n",
    "print((res1))"
   ]
  },
  {
   "cell_type": "markdown",
   "metadata": {},
   "source": [
    "二、文件和文件夹操作\n",
    "1、在当前工作目录下创建个新的文件夹（new1）。注意如果当前文件夹已存在则无需创建。\n",
    "\n"
   ]
  },
  {
   "cell_type": "code",
   "execution_count": 56,
   "metadata": {},
   "outputs": [],
   "source": [
    "import os\n",
    "os.getcwd()\n",
    "path=os.path.join(os.getcwd(),'new1')\n",
    "os.mkdir(path)"
   ]
  },
  {
   "cell_type": "markdown",
   "metadata": {},
   "source": [
    "2、在新创建的文件夹(new1)下新建3个文件（a.txt,b.txt,c.txt）,并且分别在每个文件中写入字符串。\n",
    "在a.txt中写入：‘kq10eu12eew’\n",
    "在b.txt中写入：‘k2lwje666w’\n",
    "在c.txt中写入：‘aaakqe7wjeew’\n"
   ]
  },
  {
   "cell_type": "code",
   "execution_count": 65,
   "metadata": {},
   "outputs": [],
   "source": [
    "import os\n",
    "os.getcwd()\n",
    "path=os.path.join(os.getcwd(),'new1')\n",
    "with open(os.path.join(path,'a.txt'),'w',encoding='utf-8') as f1,open(os.path.join(path,'b.txt'),'w',encoding='utf-8') as f2,open(os.path.join(path,'c.txt'),'w',encoding='utf-8')  as f3:\n",
    "    f1.write('kq10eu12eew')\n",
    "    f2.write('k21wje666w')\n",
    "    f3.write('aaakqe7wjeew')\n"
   ]
  },
  {
   "cell_type": "markdown",
   "metadata": {},
   "source": [
    "3、读取文件夹（new1）下所有文件中的内容，并且将所有文件中的数字相加。\n",
    "提取的数字为10+12+21+666+7，最终结果为：716\n",
    "注意：以上步骤都要通过python代码实现。"
   ]
  },
  {
   "cell_type": "code",
   "execution_count": 67,
   "metadata": {},
   "outputs": [
    {
     "name": "stdout",
     "output_type": "stream",
     "text": [
      "716\n"
     ]
    }
   ],
   "source": [
    "import os\n",
    "import re\n",
    "os.getcwd()\n",
    "path=os.path.join(os.getcwd(),'new1')\n",
    "with open(os.path.join(path,'a.txt'),'r',encoding='utf-8') as f1,open(os.path.join(path,'b.txt'),'r',encoding='utf-8') as f2,open(os.path.join(path,'c.txt'),'r',encoding='utf-8')  as f3:\n",
    "    s1=r'(\\d+)'\n",
    "    s3=f1.read()\n",
    "    s3+=f2.read()\n",
    "    s3+=f3.read()\n",
    "    s2=re.findall(s1,s3)\n",
    "    num=0\n",
    "    for i in s2:\n",
    "        num+=(int)(i)\n",
    "    print(num)"
   ]
  },
  {
   "cell_type": "code",
   "execution_count": null,
   "metadata": {},
   "outputs": [],
   "source": []
  }
 ],
 "metadata": {
  "kernelspec": {
   "display_name": "Python 3",
   "language": "python",
   "name": "python3"
  },
  "language_info": {
   "codemirror_mode": {
    "name": "ipython",
    "version": 3
   },
   "file_extension": ".py",
   "mimetype": "text/x-python",
   "name": "python",
   "nbconvert_exporter": "python",
   "pygments_lexer": "ipython3",
   "version": "3.7.7"
  }
 },
 "nbformat": 4,
 "nbformat_minor": 4
}
