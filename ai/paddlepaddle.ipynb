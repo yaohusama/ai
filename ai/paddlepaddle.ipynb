{
 "cells": [
  {
   "cell_type": "code",
   "execution_count": 1,
   "id": "knowing-option",
   "metadata": {},
   "outputs": [
    {
     "name": "stderr",
     "output_type": "stream",
     "text": [
      "d:\\python37\\lib\\site-packages\\urllib3\\util\\selectors.py:14: DeprecationWarning: Using or importing the ABCs from 'collections' instead of from 'collections.abc' is deprecated since Python 3.3,and in 3.9 it will stop working\n",
      "  from collections import namedtuple, Mapping\n",
      "d:\\python37\\lib\\site-packages\\urllib3\\_collections.py:2: DeprecationWarning: Using or importing the ABCs from 'collections' instead of from 'collections.abc' is deprecated since Python 3.3,and in 3.9 it will stop working\n",
      "  from collections import Mapping, MutableMapping\n"
     ]
    },
    {
     "name": "stdout",
     "output_type": "stream",
     "text": [
      "download training data and load training data\n"
     ]
    },
    {
     "name": "stderr",
     "output_type": "stream",
     "text": [
      "Cache file C:\\Users\\huawei\\.cache\\paddle\\dataset\\mnist\\train-images-idx3-ubyte.gz not found, downloading https://dataset.bj.bcebos.com/mnist/train-images-idx3-ubyte.gz \n",
      "Begin to download\n",
      "\n",
      "Download finished\n",
      "Cache file C:\\Users\\huawei\\.cache\\paddle\\dataset\\mnist\\train-labels-idx1-ubyte.gz not found, downloading https://dataset.bj.bcebos.com/mnist/train-labels-idx1-ubyte.gz \n",
      "Begin to download\n",
      "........\n",
      "Download finished\n",
      "Cache file C:\\Users\\huawei\\.cache\\paddle\\dataset\\mnist\\t10k-images-idx3-ubyte.gz not found, downloading https://dataset.bj.bcebos.com/mnist/t10k-images-idx3-ubyte.gz \n",
      "Begin to download\n",
      "\n",
      "Download finished\n",
      "Cache file C:\\Users\\huawei\\.cache\\paddle\\dataset\\mnist\\t10k-labels-idx1-ubyte.gz not found, downloading https://dataset.bj.bcebos.com/mnist/t10k-labels-idx1-ubyte.gz \n",
      "Begin to download\n",
      "..\n",
      "Download finished\n"
     ]
    },
    {
     "name": "stdout",
     "output_type": "stream",
     "text": [
      "load finished\n"
     ]
    }
   ],
   "source": [
    "import paddle\n",
    "from paddle.vision.transforms import Normalize\n",
    "\n",
    "transform = Normalize(mean=[127.5],\n",
    "                               std=[127.5],\n",
    "                               data_format='CHW')\n",
    "# 使用transform对数据集做归一化\n",
    "print('download training data and load training data')\n",
    "train_dataset = paddle.vision.datasets.MNIST(mode='train', transform=transform)\n",
    "test_dataset = paddle.vision.datasets.MNIST(mode='test', transform=transform)\n",
    "print('load finished')"
   ]
  },
  {
   "cell_type": "code",
   "execution_count": 2,
   "id": "narrative-mechanism",
   "metadata": {},
   "outputs": [
    {
     "name": "stderr",
     "output_type": "stream",
     "text": [
      "d:\\python37\\lib\\site-packages\\ipykernel\\ipkernel.py:283: DeprecationWarning: `should_run_async` will not call `transform_cell` automatically in the future. Please pass the result to `transformed_cell` argument and any exception that happen during thetransform in `preprocessing_exc_tuple` in IPython 7.17 and above.\n",
      "  and should_run_async(code)\n"
     ]
    },
    {
     "name": "stdout",
     "output_type": "stream",
     "text": [
      "train_data0 label is: [5]\n"
     ]
    },
    {
     "data": {
      "image/png": "[encoded data removed]",
      "text/plain": [
       "<Figure size 144x144 with 1 Axes>"
      ]
     },
     "metadata": {
      "needs_background": "light"
     },
     "output_type": "display_data"
    }
   ],
   "source": [
    "import numpy as np\n",
    "import matplotlib.pyplot as plt\n",
    "train_data0, train_label_0 = train_dataset[0][0],train_dataset[0][1]\n",
    "train_data0 = train_data0.reshape([28,28])\n",
    "plt.figure(figsize=(2,2))\n",
    "plt.imshow(train_data0, cmap=plt.cm.binary)\n",
    "print('train_data0 label is: ' + str(train_label_0))"
   ]
  },
  {
   "cell_type": "code",
   "execution_count": 3,
   "id": "accredited-elimination",
   "metadata": {},
   "outputs": [
    {
     "name": "stderr",
     "output_type": "stream",
     "text": [
      "d:\\python37\\lib\\site-packages\\ipykernel\\ipkernel.py:283: DeprecationWarning: `should_run_async` will not call `transform_cell` automatically in the future. Please pass the result to `transformed_cell` argument and any exception that happen during thetransform in `preprocessing_exc_tuple` in IPython 7.17 and above.\n",
      "  and should_run_async(code)\n"
     ]
    },
    {
     "name": "stdout",
     "output_type": "stream",
     "text": [
      "---------------------------------------------------------------------------\n",
      " Layer (type)       Input Shape          Output Shape         Param #    \n",
      "===========================================================================\n",
      "   Flatten-1      [[1, 1, 28, 28]]         [1, 784]              0       \n",
      "   Linear-1          [[1, 784]]            [1, 100]           78,500     \n",
      "    ReLU-1           [[1, 100]]            [1, 100]              0       \n",
      "   Linear-2          [[1, 100]]            [1, 100]           10,100     \n",
      "    ReLU-2           [[1, 100]]            [1, 100]              0       \n",
      "   Linear-3          [[1, 100]]            [1, 10]             1,010     \n",
      "===========================================================================\n",
      "Total params: 89,610\n",
      "Trainable params: 89,610\n",
      "Non-trainable params: 0\n",
      "---------------------------------------------------------------------------\n",
      "Input size (MB): 0.00\n",
      "Forward/backward pass size (MB): 0.01\n",
      "Params size (MB): 0.34\n",
      "Estimated Total Size (MB): 0.35\n",
      "---------------------------------------------------------------------------\n",
      "\n"
     ]
    },
    {
     "data": {
      "text/plain": [
       "{'total_params': 89610, 'trainable_params': 89610}"
      ]
     },
     "execution_count": 3,
     "metadata": {},
     "output_type": "execute_result"
    }
   ],
   "source": [
    "# 定义多层感知机\n",
    "class MultilayerPerceptron(paddle.nn.Layer):\n",
    "    def __init__(self, in_features):\n",
    "        super(MultilayerPerceptron, self).__init__()\n",
    "        # 形状变换，将数据形状从 [] 变为 []\n",
    "        self.flatten = paddle.nn.Flatten()\n",
    "        # 第一个全连接层\n",
    "        self.linear1 = paddle.nn.Linear(in_features=in_features, out_features=100)\n",
    "        # 使用ReLU激活函数\n",
    "        self.act1 = paddle.nn.ReLU()\n",
    "        # 第二个全连接层\n",
    "        self.linear2 = paddle.nn.Linear(in_features=100, out_features=100)\n",
    "        # 使用ReLU激活函数\n",
    "        self.act2 = paddle.nn.ReLU()\n",
    "        # 第三个全连接层\n",
    "        self.linear3 = paddle.nn.Linear(in_features=100, out_features=10)\n",
    "\n",
    "    def forward(self, x):\n",
    "        # x = x.reshape((-1, 1, 28, 28))\n",
    "        x = self.flatten(x)\n",
    "        x = self.linear1(x)\n",
    "        x = self.act1(x)\n",
    "        x = self.linear2(x)\n",
    "        x = self.act2(x)\n",
    "        x = self.linear3(x)\n",
    "        return x\n",
    "    # 使用 paddle.Model 封装 MultilayerPerceptron\n",
    "model = paddle.Model(MultilayerPerceptron(in_features=784))\n",
    "# 使用 summary 打印模型结构\n",
    "model.summary((-1, 1, 28, 28))"
   ]
  },
  {
   "cell_type": "code",
   "execution_count": 4,
   "id": "happy-french",
   "metadata": {},
   "outputs": [],
   "source": [
    "# 配置模型\n",
    "model.prepare(paddle.optimizer.Adam(parameters=model.parameters()),  # 使用Adam算法进行优化\n",
    "              paddle.nn.CrossEntropyLoss(), # 使用CrossEntropyLoss 计算损失\n",
    "              paddle.metric.Accuracy()) # 使用Accuracy 计算精度"
   ]
  },
  {
   "cell_type": "code",
   "execution_count": 5,
   "id": "related-isolation",
   "metadata": {},
   "outputs": [
    {
     "name": "stdout",
     "output_type": "stream",
     "text": [
      "The loss value printed in the log is the current step, and the metric is the average value of previous step.\n",
      "Epoch 1/5\n"
     ]
    },
    {
     "name": "stderr",
     "output_type": "stream",
     "text": [
      "d:\\python37\\lib\\site-packages\\paddle\\fluid\\layers\\utils.py:77: DeprecationWarning: Using or importing the ABCs from 'collections' instead of from 'collections.abc' is deprecated since Python 3.3,and in 3.9 it will stop working\n",
      "  return (isinstance(seq, collections.Sequence) and\n"
     ]
    },
    {
     "name": "stdout",
     "output_type": "stream",
     "text": [
      "step 938/938 [==============================] - loss: 0.2457 - acc: 0.9000 - 22ms/step           loss: 0.1572 - acc: 0.8974 - ETA: 1s\n",
      "Epoch 2/5\n",
      "step 938/938 [==============================] - loss: 0.1213 - acc: 0.9525 - 19ms/step          \n",
      "Epoch 3/5\n",
      "step 938/938 [==============================] - loss: 0.0464 - acc: 0.9626 - 19ms/step          \n",
      "Epoch 4/5\n",
      "step 938/938 [==============================] - loss: 0.0043 - acc: 0.9693 - 19ms/step          \n",
      "Epoch 5/5\n",
      "step 938/938 [==============================] - loss: 0.1345 - acc: 0.9726 - 20ms/step          \n"
     ]
    }
   ],
   "source": [
    "# 开始模型训练\n",
    "model.fit(train_dataset, # 设置训练数据集\n",
    "          epochs=5,      # 设置训练轮数\n",
    "          batch_size=64, # 设置 batch_size\n",
    "          verbose=1)     # 设置日志打印格式"
   ]
  },
  {
   "cell_type": "code",
   "execution_count": 6,
   "id": "literary-economy",
   "metadata": {},
   "outputs": [
    {
     "name": "stdout",
     "output_type": "stream",
     "text": [
      "Eval begin...\n",
      "The loss value printed in the log is the current batch, and the metric is the average value of previous step.\n",
      "step 10000/10000 [==============================] - loss: 3.0876e-05 - acc: 0.9695 - 4ms/step          \n",
      "Eval samples: 10000\n"
     ]
    },
    {
     "data": {
      "text/plain": [
       "{'loss': [3.0875683e-05], 'acc': 0.9695}"
      ]
     },
     "execution_count": 6,
     "metadata": {},
     "output_type": "execute_result"
    }
   ],
   "source": [
    "model.evaluate(test_dataset, verbose=1)"
   ]
  },
  {
   "cell_type": "code",
   "execution_count": 7,
   "id": "decreased-balance",
   "metadata": {},
   "outputs": [
    {
     "name": "stdout",
     "output_type": "stream",
     "text": [
      "Predict begin...\n",
      "step 10000/10000 [==============================] - 4ms/step          \n",
      "Predict samples: 10000\n"
     ]
    }
   ],
   "source": [
    "\n",
    "results = model.predict(test_dataset)"
   ]
  },
  {
   "cell_type": "code",
   "execution_count": 8,
   "id": "informed-chinese",
   "metadata": {},
   "outputs": [
    {
     "name": "stdout",
     "output_type": "stream",
     "text": [
      "该图片的预测结果的label为: 6\n"
     ]
    }
   ],
   "source": [
    "\n",
    "# 获取概率最大的label\n",
    "lab = np.argsort(results)                               #argsort函数返回的是result数组值从小到大的索引值\n",
    "# print(lab)\n",
    "print(\"该图片的预测结果的label为: %d\" % lab[0][0][-1][0])  #-1代表读取数组中倒数第一列  "
   ]
  },
  {
   "cell_type": "code",
   "execution_count": null,
   "id": "interior-causing",
   "metadata": {},
   "outputs": [],
   "source": []
  }
 ],
 "metadata": {
  "kernelspec": {
   "display_name": "Python 3",
   "language": "python",
   "name": "python3"
  },
  "language_info": {
   "codemirror_mode": {
    "name": "ipython",
    "version": 3
   },
   "file_extension": ".py",
   "mimetype": "text/x-python",
   "name": "python",
   "nbconvert_exporter": "python",
   "pygments_lexer": "ipython3",
   "version": "3.7.8"
  }
 },
 "nbformat": 4,
 "nbformat_minor": 5
}
