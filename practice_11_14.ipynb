{
 "cells": [
  {
   "cell_type": "raw",
   "metadata": {},
   "source": [
    "爬虫练习\n",
    "爬取猫眼top100数据，url:https://maoyan.com/board/4\n",
    "要求：\n",
    "1、需要提取的字段：电影，主演，上映时间，评分，电影图片url。\n",
    "2、提取的字段保存到csv文件\n",
    "注意：如果提取不到数据 需要添加User-Agent字段信息\n",
    "ppt课件中有User-Agent字段的说明。"
   ]
  },
  {
   "cell_type": "code",
   "execution_count": 48,
   "metadata": {},
   "outputs": [
    {
     "name": "stdout",
     "output_type": "stream",
     "text": [
      "https://maoyan.com/board/4?offset=0\n",
      "200\n",
      "https://maoyan.com/board/4?offset=10\n",
      "200\n",
      "https://maoyan.com/board/4?offset=20\n",
      "200\n",
      "https://maoyan.com/board/4?offset=30\n",
      "200\n",
      "https://maoyan.com/board/4?offset=40\n",
      "200\n",
      "https://maoyan.com/board/4?offset=50\n",
      "200\n",
      "https://maoyan.com/board/4?offset=60\n",
      "200\n",
      "https://maoyan.com/board/4?offset=70\n",
      "200\n",
      "https://maoyan.com/board/4?offset=80\n",
      "200\n",
      "https://maoyan.com/board/4?offset=90\n",
      "200\n",
      "https://maoyan.com/board/4?offset=100\n",
      "200\n",
      "['寻梦环游记', '何以为家', '忠犬八公的故事', '情书', '龙猫', '当幸福来敲门', '三傻大闹宝莱坞', '泰坦尼克号', '放牛班的春天', '熔炉', '海边的曼彻斯特', '布达佩斯大饭店', '低俗小说', '菊次郎的夏天', '爱在黎明破晓前', '七宗罪', '超脱', '釜山行', '春光乍泄', '爱在日落黄昏时', '剪刀手爱德华', '波西米亚狂想曲', '辩护人', '海蒂和爷爷', '阿凡达', '无间道', '网络谜踪', '心灵捕手', '重庆森林', '天空之城', '穿条纹睡衣的男孩', '断背山', '蜘蛛侠：平行宇宙', '素媛', '蝙蝠侠：黑暗骑士', '十二怒汉', '两杆大烟枪', '血战钢锯岭', '控方证人', '奇迹男孩']\n",
      "--------------\n",
      "['主演：安东尼·冈萨雷斯,本杰明·布拉特,盖尔·加西亚·贝纳尔', '主演：赞恩·阿尔·拉菲亚,约丹诺斯·希费罗,博鲁瓦蒂夫·特雷杰·班科尔', '主演：Forest,理查·基尔,琼·艾伦', '主演：中山美穗,丰川悦司,范文雀', '主演：秦岚,糸井重里,岛本须美', '主演：威尔·史密斯,贾登·史密斯,坦迪·牛顿', '主演：阿米尔·汗,黄渤,卡琳娜·卡普', '主演：莱昂纳多·迪卡普里奥,凯特·温丝莱特,比利·赞恩', '主演：热拉尔·朱尼奥,让-巴蒂斯特·莫尼耶,玛丽·布奈尔', '主演：孔刘,郑有美,金智英', '主演：卡西·阿弗莱克,卢卡斯·赫奇斯,米歇尔·威廉姆斯', '主演：拉尔夫·费因斯,托尼·雷沃罗利,西尔莎·罗南', '主演：约翰·特拉沃尔塔,乌玛·瑟曼,塞缪尔·杰克逊', '主演：北野武,关口雄介,岸本 加世子', '主演：伊桑·霍克,朱莉·德尔佩,安德莉亚·埃克特', '主演：布拉德·皮特,摩根·弗里曼,格温妮斯·帕特洛', '主演：艾德里安·布洛迪,马西娅·盖伊·哈登,詹姆斯·肯恩', '主演：孔刘,郑有美,马东锡', '主演：张国荣,梁朝伟,张震', '主演：伊桑·霍克,朱莉·德尔佩,弗农·多布切夫', '主演：约翰尼·德普,薇诺娜·瑞德,黛安娜·威斯特', '主演：拉米·马雷克,本·哈迪,约瑟夫•梅泽罗', '主演：宋康昊,郭度沅,吴达洙', '主演：阿努克·斯特芬,布鲁诺·甘茨,昆林·艾格匹', '主演：萨姆·沃辛顿,佐伊·索尔达娜,米歇尔·罗德里格兹', '主演：刘德华,梁朝伟,黄秋生', '主演：约翰·赵,米切尔·拉,黛博拉·梅辛', '主演：罗宾·威廉姆斯,马特·达蒙,明妮·德里弗', '主演：梁朝伟,王菲,金城武', '主演：寺田农,鹫尾真知子,龟山助清', '主演：阿沙·巴特菲尔德,维拉·法梅加,大卫·休里斯', '主演：希斯·莱杰,杰克·吉伦哈尔,米歇尔·威廉姆斯', '主演：沙梅克·摩尔,彭昱畅,杰克·M·约翰森', '主演：李甄,薛耿求,严智苑', '主演：克里斯蒂安·贝尔,希斯·莱杰,阿伦·伊克哈特', '主演：亨利·方达,李·科布,马丁·鲍尔萨姆', '主演：杰森·弗莱明,德克斯特·弗莱彻,杰森•斯坦森', '主演：安德鲁·加菲尔德,雨果·维文,卢克·布雷西', '主演：泰隆·鲍华,玛琳·黛德丽,查尔斯·劳顿', '主演：雅各布·特瑞布雷,朱莉娅·罗伯茨,欧文·威尔逊']\n",
      "---------------\n",
      "['上映时间：2017-11-24', '上映时间：2019-04-29', '上映时间：2009-06-13(美国)', '上映时间：1999-03', '上映时间：2018-12-14', '上映时间：2008-01-17', '上映时间：2011-12-08', '上映时间：1998-04-03', '上映时间：2004-10-16', '上映时间：2011-09-22(韩国)', '上映时间：2017-08-25', '上映时间：2014-06-14', '上映时间：1994-05-21(法国)', '上映时间：2020-09-25', '上映时间：1995-01-27(美国)', '上映时间：1995-09-22(美国)', '上映时间：2011-04-25(美国)', '上映时间：2016-05-13(法国)', '上映时间：1997-05-17(法国)', '上映时间：2015-04-20', '上映时间：1990-12-06(美国)', '上映时间：2019-03-22', '上映时间：2013-12-18(韩国)', '上映时间：2019-05-16', '上映时间：2010-01-04', '上映时间：2003-09-05', '上映时间：2018-12-14', '上映时间：1997-12-05(美国)', '上映时间：1994-07-14(中国香港)', '上映时间：1992-05-01', '上映时间：2008-08-28(英国)', '上映时间：2005-09-02(意大利)', '上映时间：2018-12-21', '上映时间：2013-10-02(韩国)', '上映时间：2008-07-14(阿根廷)', '上映时间：1957-04-13(美国)', '上映时间：1998-08-28(英国)', '上映时间：2016-12-08', '上映时间：1957-12-17(美国)', '上映时间：2018-01-19']\n",
      "---------------\n",
      "['https://p1.meituan.net/movie/14f9018b371d94dd812772704613babd475457.jpg@160w_220h_1e_1c', 'https://p1.meituan.net/movie/d28b729ffe72353a72d1e7ef8a9b90591544978.jpg@160w_220h_1e_1c', 'https://p0.meituan.net/movie/04263651e43c11ce538b180988ff0a5e231189.jpg@160w_220h_1e_1c', 'https://p1.meituan.net/movie/4e6e22ea788a72b1cf769bd5537bd38d37701.jpg@160w_220h_1e_1c', 'https://p0.meituan.net/movie/c304c687e287c7c2f9e22cf78257872d277201.jpg@160w_220h_1e_1c', 'https://p0.meituan.net/moviemachine/e5daa8748733820faab91102bd0bc4507730353.jpg@160w_220h_1e_1c', 'https://p1.meituan.net/movie/ca4a128a5a54d5b5e35ceba622636c831810197.jpg@160w_220h_1e_1c', 'https://p1.meituan.net/movie/b607fba7513e7f15eab170aac1e1400d878112.jpg@160w_220h_1e_1c', 'https://p0.meituan.net/movie/70de97ebb6b5251ecb7c3f6d7a782a7f189340.jpg@160w_220h_1e_1c', 'https://p1.meituan.net/movie/2a0783b4fd95566568f24adfad2181bb5392280.jpg@160w_220h_1e_1c', 'https://p0.meituan.net/movie/14dce6c3d296dd12a1d0841def25162b321241.jpg@160w_220h_1e_1c', 'https://p0.meituan.net/movie/b6167a97f67993bfef5053f7c78cfdc81986322.jpg@160w_220h_1e_1c', 'https://p0.meituan.net/movie/621a8ea3736dfd97ca9cc05698d9bb71330853.jpg@160w_220h_1e_1c', 'https://p0.meituan.net/movie/0bd752877b95b8eac2d0704c783f372c4625354.jpg@160w_220h_1e_1c', 'https://p0.meituan.net/movie/32958f447a4319a9483c300b2b4e1adc375046.jpg@160w_220h_1e_1c', 'https://p0.meituan.net/movie/2e43117ed0e932e71c0e52d7e88588df330131.jpg@160w_220h_1e_1c', 'https://p1.meituan.net/movie/73c84696b0795c8d0c736857ebac8e951698003.jpg@160w_220h_1e_1c', 'https://p0.meituan.net/movie/13cc737c14e76278db116cf9210f697a371891.jpg@160w_220h_1e_1c', 'https://p0.meituan.net/movie/ae7245920d95c03765fe1615f3a1fe3865785.jpg@160w_220h_1e_1c', 'https://p1.meituan.net/movie/20b81c48788d6f73a07fec370baabad4103840.jpg@160w_220h_1e_1c', 'https://p1.meituan.net/movie/6a964e9cee699267053bd6a4bf6f2671195394.jpg@160w_220h_1e_1c', 'https://p1.meituan.net/movie/d94e5c3054778f6f48bff3a813b0b7cd5300998.jpg@160w_220h_1e_1c', 'https://p1.meituan.net/movie/389058d95ea9e464d695cd1a8c7e285f440657.jpg@160w_220h_1e_1c', 'https://p0.meituan.net/movie/f2a32a5369a76ee11ee37947a0003254629750.jpg@160w_220h_1e_1c', 'https://p0.meituan.net/moviemachine/4d3f9e5f821e6e42b1ea48eb39c5df0e1293530.jpg@160w_220h_1e_1c', 'https://p0.meituan.net/movie/606de8f394d40dbcbb9b87943fec71a2130408.jpg@160w_220h_1e_1c', 'https://p0.meituan.net/movie/36db8e805a15cc0475ebe3f0c9b56c9e782659.jpg@160w_220h_1e_1c', 'https://p1.meituan.net/movie/76476c7f8c6de60df8da6efae60c3542399799.jpg@160w_220h_1e_1c', 'https://p0.meituan.net/movie/f5c02860c864f7375fe2c6237fc1deaf215307.jpg@160w_220h_1e_1c', 'https://p1.meituan.net/movie/ba1ed511668402605ed369350ab779d6319397.jpg@160w_220h_1e_1c', 'https://p1.meituan.net/movie/d5970e36c8868a4b746c80f3b3f8a404174615.jpg@160w_220h_1e_1c', 'https://p1.meituan.net/movie/686c2de9e4f416e592d09cb62b32f274390992.jpg@160w_220h_1e_1c', 'https://p0.meituan.net/movie/ca9cfca03292e207ceea03904d2c02e61096852.jpg@160w_220h_1e_1c', 'https://p0.meituan.net/movie/19653e8af59cf473cd40f9ccc0658d93692304.jpg@160w_220h_1e_1c', 'https://p0.meituan.net/movie/09658109acfea0e248a63932337d8e6a4268980.jpg@160w_220h_1e_1c', 'https://p1.meituan.net/movie/961036f05fdfdd68fecb70fa0c579ca0238954.jpg@160w_220h_1e_1c', 'https://p0.meituan.net/movie/632e8039ca28809a6ab9d72673f388f3113539.jpg@160w_220h_1e_1c', 'https://p1.meituan.net/movie/611821c86367c6d9d0d663047407df59654543.jpg@160w_220h_1e_1c', 'https://p0.meituan.net/movie/7d94792dee7ac5964bbcbcd676a98081261728.jpg@160w_220h_1e_1c', 'https://p0.meituan.net/movie/e5e49dad53d8cfba7316d486e799345c395906.jpg@160w_220h_1e_1c']\n",
      "---------------\n",
      "['', '', '', '', '', '', '', '', '', '', '', '', '', '', '', '', '', '', '', '', '9.6', '9.3', '9.3', '8.7', '9.2', '9.3', '9.1', '9.4', '8.8', '8.8', '', '', '', '', '', '', '', '', '', '', '', '', '', '', '', '', '', '', '', '', '', '', '', '', '', '', '', '', '', '', '8.8', '8.7', '8.6', '8.8', '8.7', '8.7', '8.7', '8.9', '9.2', '8.7', '8.8', '9.4', '8.8', '9.5', '8.9', '9.1', '8.6', '8.3', '8.6', '9.0', '9.0', '8.9', '8.8', '9.1', '9.3', '9.1', '8.7', '9.3', '8.5', '9.2', '', '', '', '', '', '', '', '', '', '', '', '', '', '', '', '', '', '', '', '']\n"
     ]
    }
   ],
   "source": [
    "import requests\n",
    "import os\n",
    "from lxml import etree\n",
    "import numpy as np\n",
    "import pandas as pd\n",
    "url='https://maoyan.com/board/4'\n",
    "#url='https://maoyan.com/board/4?offset='+\n",
    "headers={'user-agent': 'Mozilla/5.0 (Windows NT 10.0; Win64; x64) AppleWebKit/537.36 (KHTML, like Gecko) Chrome/86.0.4240.183 Safari/537.36'}\n",
    "headers = {\"User-Agent\": \"Mozilla/5.0 (Windows NT 10.0; WOW64) AppleWebKit/537.36 (KHTML, like Gecko) Chrome/86.0.4240.183 Safari/537.36\",\n",
    "           \"Cookie\": \"__mta=150304265.1604989935954.1604990156622.1605000054906.3; uuid_n_v=v1; uuid=78FC3E00231E11EBB769A3723142B84C411A260506A845218CB9660A2365DCD4; _csrf=6f80166822feebdf70729720743ce2134811f101a438d2c56ea3a717d4676447; Hm_lvt_703e94591e87be68cc8da0da7cbd0be2=1604989936; _lx_utm=utm_source%3DBaidu%26utm_medium%3Dorganic; _lxsdk_cuid=175b0dae051c8-00687dfaf29b1b-3e604902-100200-175b0dae051c8; _lxsdk=78FC3E00231E11EBB769A3723142B84C411A260506A845218CB9660A2365DCD4; Hm_lpvt_703e94591e87be68cc8da0da7cbd0be2=1605000055; _lxsdk_s=175b1754810-d48-258-d96%7C%7C4\"}\n",
    "res1=[]\n",
    "res2=[]\n",
    "res3=[]\n",
    "res4=[]\n",
    "res6=[]\n",
    "for p in range(0,110,10):#爬虫爬的不是按顺序爬的，每次爬的不一样，反爬虫机制\n",
    "    url='https://maoyan.com/board/4?offset={}'.format(p)\n",
    "    res =  requests.get(url, headers=headers)\n",
    "    print(url)\n",
    "    print(res.status_code)\n",
    "    #res=requests.get(url,headers=headers)\n",
    "    res_html=etree.HTML(res.text)\n",
    "    res1.extend(res_html.xpath('//*[@id=\"app\"]/div/div/div[1]/dl/dd/div/div/div[1]/p[1]/a/text()'))\n",
    "    #//*[@id=\"app\"]/div/div/div[1]/dl/dd[2]/div/div/div[1]/p[1]/a\n",
    "    res5=[i.strip() for i in (res_html.xpath('//*[@id=\"app\"]/div/div/div[1]/dl/dd/div/div/div[1]/p[2]/text()'))]\n",
    "    res2.extend(res5)\n",
    "    #//*[@id=\"app\"]/div/div/div[1]/dl/dd[2]/div/div/div[1]/p[2]\n",
    "    res3.extend(res_html.xpath('//*[@id=\"app\"]/div/div/div[1]/dl/dd/div/div/div[1]/p[3]/text()'))\n",
    "    #//*[@id=\"app\"]/div/div/div[1]/dl/dd[2]/div/div/div[1]/p[3]\n",
    "    res4.extend(res_html.xpath('//*[@id=\"app\"]/div/div/div[1]/dl/dd/a/img[2]/@data-src'))\n",
    "    #//*[@id=\"app\"]/div/div/div[1]/dl/dd[2]/a/img[2]\n",
    "    for j in range(1,11):\n",
    "        res6.append(''.join(res_html.xpath('//*[@id=\"app\"]/div/div/div[1]/dl/dd[{}]/div/div/div[2]/p/i/text()'.format(j))))\n",
    "#res5=[(''.join(res_html.xpath('//*[@id=\"app\"]/div/div/div[1]/dl/dd[i]/div/div/div[2]/p/i/text()'))) for i in range(1,11)]\n",
    "#//*[@id=\"app\"]/div/div/div[1]/dl/dd[2]/div/div/div[2]/p\n",
    "# f1={}\n",
    "print(res1)\n",
    "print('--------------')\n",
    "print(res2)\n",
    "print('---------------')\n",
    "print(res3)\n",
    "print('---------------')\n",
    "print(res4)\n",
    "print('---------------')\n",
    "print(res6)\n",
    "data={'film_name':res1,'lead_actor':res2,'上映时间':res3,'电影图片':res4}\n",
    "frame=pd.DataFrame(data)\n",
    "frame.to_csv(os.path.join(os.getcwd(),'maoyan.csv'))#由于页面结构问题，评分有的并没有，如果maoyan.csv文件有打开，会出现permission error\n",
    "# 因为目标网站有反爬虫策略（ban），对方根据你的访问频率和IP判断你是爬虫，而不是正常的浏览。所以介绍3个常用的防ban的策略给你：1、设置随机漫步。访问间隔时间可以设为一个服从正态分布的随机数，模拟人类浏览网页的频率。2、设置爬虫的工作周期。深更半夜就停止工作，早上就开始工作，尽量模拟人类的作息。3、搭建集群，分布式爬虫。这样访问的IP会不固定，对方不容易判断出你是爬虫。这个开发成本就相对较高了。推荐NUTCH框架。针对scrapy，可以在setting.py里设置bot_name，user_agent伪装成浏览器，同时拒绝COOKIE，分享一下我一个scrapy项目的setting文件：\n",
    "\n",
    "# 作者：知乎用户\n",
    "# 链接：https://www.zhihu.com/question/38123412/answer/75123814\n",
    "# 来源：知乎\n",
    "# 著作权归作者所有。商业转载请联系作者获得授权，非商业转载请注明出处。"
   ]
  },
  {
   "cell_type": "raw",
   "metadata": {},
   "source": [
    "Python练习\n",
    "使用快速排序算法对列表进行增序排序。\n",
    "输入：[2,4,3,5,6,1,9,8,7] \n",
    "输出：[1,2,3,4,5,6,7,8,9] \n",
    "注意：不能使用sort和sorted函数。快速排序算法原理网上自己查找资料。"
   ]
  },
  {
   "cell_type": "code",
   "execution_count": 31,
   "metadata": {},
   "outputs": [
    {
     "name": "stdout",
     "output_type": "stream",
     "text": [
      "[1, 2, 3, 4, 5, 6, 7, 8, 9]\n"
     ]
    }
   ],
   "source": [
    "arr=[2,4,3,5,6,1,9,8,7]\n",
    "def quick(ll,rr):\n",
    "    if ll>=rr :\n",
    "        return \n",
    "    x=arr[ll]\n",
    "    l=ll\n",
    "    r=rr\n",
    "    while l<r:\n",
    "        while r>l and arr[r]>=x :\n",
    "            r=r-1\n",
    "        while l<r and arr[l]<=x:\n",
    "            l=l+1\n",
    "        if r>l:\n",
    "            tmp=arr[l]\n",
    "            arr[l]=arr[r]\n",
    "            arr[r]=tmp\n",
    "    tmp=arr[ll]\n",
    "    arr[ll]=arr[r]\n",
    "    arr[r]=tmp\n",
    "    quick(ll,r-1)\n",
    "    quick(r+1,rr)\n",
    "quick(0,len(arr)-1)\n",
    "print(arr)"
   ]
  },
  {
   "cell_type": "code",
   "execution_count": null,
   "metadata": {},
   "outputs": [],
   "source": []
  },
  {
   "cell_type": "code",
   "execution_count": null,
   "metadata": {},
   "outputs": [],
   "source": []
  }
 ],
 "metadata": {
  "kernelspec": {
   "display_name": "Python 3",
   "language": "python",
   "name": "python3"
  },
  "language_info": {
   "codemirror_mode": {
    "name": "ipython",
    "version": 3
   },
   "file_extension": ".py",
   "mimetype": "text/x-python",
   "name": "python",
   "nbconvert_exporter": "python",
   "pygments_lexer": "ipython3",
   "version": "3.7.0"
  }
 },
 "nbformat": 4,
 "nbformat_minor": 2
}
