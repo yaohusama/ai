{
 "cells": [
  {
   "cell_type": "markdown",
   "metadata": {},
   "source": [
    "## 灰度变换\n",
    "\n",
    "https://baike.baidu.com/item/%E7%81%B0%E5%BA%A6%E5%8F%98%E6%8D%A2/20868243?fr=aladdin\n",
    "\n",
    "\n",
    "\n",
    "### 定义\n",
    "\n",
    "一般成像系统只具有一定的亮度响应范围，亮度的最大值与最小值之比称为对比度。\n",
    "\n",
    "由于成像系统的限制，常出现对比度不足的弊病，使人眼观看图像时视觉效果很差。\n",
    "\n",
    "灰度变换是指根据某种目标条件按一定变换关系**逐点改变源图像中每一个像素灰度值**的方法。\n",
    "\n",
    "**目的是为了改善画质，使图像的显示效果更加清晰**。 \n",
    "\n",
    "图像的灰度变换处理是图像增强处理技术中的一种非常基础、直接的空间域图像处理方法，也是图像数字化软件和图像显示软件的一个重要组成部分。\n",
    "\n",
    "\n",
    "从图像输入装置得到的图像数据，以从白到黑的不同灰度表示，各个像素与某一灰度值相对应。\n",
    "\n",
    "假设源图像像素的灰度值D=f(x, y)，处理后图像像素的灰度值D’=g(x, y)，则灰度变换可表示为 ：g(x, y)=T [f(x, y)] ，\n",
    "\n",
    "其中，**函数T(D)称为灰度变换函数，主要表示了输入灰度值和输出灰度值之间的转换关系**。\n",
    "\n",
    "灰度变换主要针对独立的像素点进行处理，通过改变原始图像数据所占据的灰度范围而使图像在视觉上得到良好的改变。\n",
    "\n",
    "如果选择的灰度变换函数不同，即使是同一图像也会得到不同的结果。\n",
    "\n",
    "因此，选择灰度变换函数应该根据图像的性质和处理的目的来决定。选择的标准是经过灰度变换后，像素的动态范围增加，图像的对比度扩展，使图像变得更加清晰、细腻，容易识别。\n",
    "\n",
    "采用灰度变换法对图像进行处理可以大大改善图像的视觉效果。\n",
    "\n",
    "**灰度变换法可以分为线性变换和非线性变换**。\n",
    "\n",
    "### 灰度线性变换\n",
    "\n",
    "### 线性变换\n",
    "\n",
    "在曝光度不足或过度的情况下，图像灰度可能会局限在一个很小的范围内。\n",
    "\n",
    "这时在显示器上看到的将是一个模糊不清、没有灰度层次的图像。\n",
    "\n",
    "用一个线性单值函数，对图像内的每一个像素做线性扩展，将有效地改善图像视觉效果。\n",
    "\n",
    "假定源图像f(x, y)的灰度范围为[a, b]，希望变换后图像g(x, y)的灰度范围扩展至[c, d]，则线性变换可表示为\n",
    "\n",
    "g(x,y)=(d-c)/(b-a)×(f(x,y)-a)+c\n",
    "\n",
    "由此可见，对输入图像灰度做线性扩张或压缩，映射函数为一个直线方程，该线性灰度变换函数是一个一维线性函数，如右图所示。\n",
    "\n",
    "若图像总的灰度级数为L，其中大部分像素的灰度级分布在[a，b]，小部分像素的灰度级超出了此区间，则可以在[a，b]区间内作线性变换，\n",
    "\n",
    "超出此区间的灰度可以变换为常数或保持不变，见下式：\n",
    "\n",
    "### 分段线性变换\n",
    "\n",
    "增强图像对比度实际是增强图像中各部分之间的反差，往往通过增加图像中两个灰度值间的动态范围来实现，有时也称其为对比度拉伸。\n",
    "\n",
    "为了突出感兴趣的灰度区间，相对抑制那些不感兴趣的灰度区间，可采用分段线性变换。\n",
    "\n",
    "常用的三段线性变换如又图所示，L表示图像总的灰度级数，其数学表达式如下，[]\n",
    "\n",
    "通过调整折线拐点的位置及控制分段直线的斜率，可对任一灰度区间进行扩展或压缩\n",
    "\n",
    "### 非线性变换\n",
    "\n",
    "当某图像的像素集中于中间灰度部分，而其他部分的像素很少时，如果只想仔细地分析图像的某一部分，也就是对图像的那部分增强，我们可以压缩像素少的部分，扩展像素数集中的部分。\n",
    "\n",
    "典型的非线性变换函数有幂函数、对数函数、指数函数、阈值函数、多值量化函数、窗口函数等。\n",
    "\n",
    "阈值函数、多值量化函数、窗口函数如右图所示[]，r和s分别为变换前后图像的灰度。\n",
    "\n",
    "实际上它们都可以归为阈值函数，即把某个灰度范围映射为一个固定的灰度值，目的是为了突出感兴趣的区域。"
   ]
  },
  {
   "cell_type": "markdown",
   "metadata": {},
   "source": [
    "### OpenCV--Python 图像增强（线性变换，直方图正规化，伽马变换，全局直方图均衡化，限制对比度的自适应直方图均衡化）\n",
    "\n",
    "https://blog.csdn.net/m0_38007695/article/details/82718107?ops_request_misc=%25257B%252522request%25255Fid%252522%25253A%252522161017788916780269888163%252522%25252C%252522scm%252522%25253A%25252220140713.130102334.pc%25255Fall.%252522%25257D&request_id=161017788916780269888163&biz_id=0&utm_medium=distribute.pc_search_result.none-task-blog-2~all~first_rank_v2~hot_rank-4-82718107.first_rank_v2_pc_rank_v29&utm_term=opencv%20python%20%E7%81%B0%E5%BA%A6%E5%8F%98%E6%8D%A2\n",
    "\n",
    "图像增强主要解决由于图像的灰度级范围较小造成的对比度较低的问题，目的就是**将输出图像的灰度级放大到指定的程度，使得图像中的细节看起来增加清晰**。\n",
    "\n",
    "对比度增强有几种常用的方法，如**线性变换、分段线性变换、伽马变换、直方图正规化、直方图均衡化、局部自适应直方图均衡化**等。\n",
    "\n",
    "### 1.灰度直方图\n",
    "\n",
    "在讲解图像增强的方法之前先来认识一下灰度直方图，灰度直方图是图像灰度级的函数，用来描述每个灰度级在图像矩阵中的像素个数或者占有率。\n",
    "\n",
    "接下来使用程序实现直方图：\n"
   ]
  },
  {
   "cell_type": "code",
   "execution_count": 5,
   "metadata": {},
   "outputs": [
    {
     "data": {
      "image/png": "[encoded data removed]",
      "text/plain": [
       "<Figure size 432x288 with 1 Axes>"
      ]
     },
     "metadata": {
      "needs_background": "light"
     },
     "output_type": "display_data"
    }
   ],
   "source": [
    "import cv2 as cv\n",
    "import numpy as np\n",
    "import matplotlib.pyplot as plt\n",
    " \n",
    "def calcGrayHist(I):\n",
    "    # 计算灰度直方图\n",
    "    h, w = I.shape[:2]\n",
    "    grayHist = np.zeros([256], np.uint64)\n",
    "    for i in range(h):\n",
    "        for j in range(w):\n",
    "            grayHist[I[i][j]] += 1\n",
    "    return grayHist\n",
    " \n",
    "img = cv.imread(\"dujuan_1.jpg\", 0)\n",
    "grayHist = calcGrayHist(img)\n",
    "x = np.arange(256)\n",
    "# 绘制灰度直方图\n",
    "plt.plot(x, grayHist, 'r', linewidth=2, c='black')\n",
    "plt.xlabel(\"gray Label\")\n",
    "plt.ylabel(\"number of pixels\")\n",
    "plt.show()\n",
    "# cv.imshow(\"img\", img)\n",
    "# cv.waitKey()"
   ]
  },
  {
   "cell_type": "markdown",
   "metadata": {},
   "source": [
    "图像的对比度是通过灰度级范围来度量的，而灰度级范围可通过观察灰度直方图得到，灰度级范围越大代表对比度越高；\n",
    "\n",
    "反之对比度越低，低对比度的图像在视觉上给人的感觉是看起来不够清晰，\n",
    "\n",
    "所以通过算法调整图像的灰度值，从而调整图像的对比度是有必要的。\n",
    "\n",
    "最简单的一种对比度增强的方法是通过灰度值的线性变换实现的。\n",
    "\n",
    "### 2.线性变换\n",
    "\n",
    "假设输入图像为I，宽为W，高为H，输出图像记为O，图像的线性变换可以用以下公式定义：\n",
    "\n",
    "        O(r,c) = a * I(r,c) + b, 0<= r<H,0\\<= c<W\n",
    "\n",
    "    如下图所示，当a=1，b=0时，O为I的一个副本；\n",
    "\n",
    "    如果a>1，则输出图像O的对比度比I有所增大；\n",
    "\n",
    "    如果0<a<1，则O的对比度比I有所减小。\n",
    "\n",
    "    而b值的改变，影响的是输出图像的亮度，\n",
    "\n",
    "    当b>0时，亮度增加；\n",
    "\n",
    "    当b<0时，亮度减小。下面代码实现："
   ]
  },
  {
   "cell_type": "code",
   "execution_count": 6,
   "metadata": {},
   "outputs": [
    {
     "name": "stdout",
     "output_type": "stream",
     "text": [
      "uint8\n",
      "[[  0 144]\n",
      " [ 46   8]]\n"
     ]
    }
   ],
   "source": [
    "import numpy as np\n",
    "a = np.array([[0, 200], [23, 4]], np.uint8)\n",
    "b = 2 * a\n",
    "print(b.dtype)\n",
    "print(b)\n"
   ]
  },
  {
   "cell_type": "markdown",
   "metadata": {},
   "source": [
    "在上面代码中，输入的是一个uint8类型的ndarray，用数字2乘以该数组，返回的ndarray的数据类型是uint8。\n",
    "\n",
    "注意输出第0行第1列，200×2应该等于400，但是400超出了uint8的数据范围，Numpy是通过模运算归到uint8范围的，即400%256=144，从而转换成uint8类型。\n",
    "\n",
    "如果将常数2改为2.0，虽然这个常数只是整型和浮点型的区别，但是结果却不一样。代码如下："
   ]
  },
  {
   "cell_type": "code",
   "execution_count": 8,
   "metadata": {},
   "outputs": [
    {
     "name": "stdout",
     "output_type": "stream",
     "text": [
      "float64\n",
      "[[  0. 400.]\n",
      " [ 46.   8.]]\n"
     ]
    }
   ],
   "source": [
    "import numpy as np\n",
    "a = np.array([[0, 200], [23, 4]], np.uint8)\n",
    "b = 2.0 * a\n",
    "print(b.dtype)\n",
    "print(b)"
   ]
  },
  {
   "cell_type": "markdown",
   "metadata": {},
   "source": [
    "可以发现返回的ndarray的数据类型变成了float64，也就是说，相乘的常数是2和2.0会导致返回的ndarray的数据类型不一样，就会造成200×2的返回值是144，而200×2.0的值却是400；\n",
    "\n",
    "而对8位图进行对比度增强来说，线性变换计算出的输出值可能要大于255，需要将这些值截断为255，而不是取模运算，所以不能简单地只是用“*”运算来实现线性变换。具体代码如下："
   ]
  },
  {
   "cell_type": "code",
   "execution_count": 12,
   "metadata": {},
   "outputs": [
    {
     "data": {
      "text/plain": [
       "-1"
      ]
     },
     "execution_count": 12,
     "metadata": {},
     "output_type": "execute_result"
    }
   ],
   "source": [
    "import cv2 as cv\n",
    "import numpy as np\n",
    "import matplotlib.pyplot as plt\n",
    " \n",
    "# 绘制直方图函数\n",
    "def grayHist(img):\n",
    "    h, w = img.shape[:2]\n",
    "    pixelSequence = img.reshape([h * w, ])\n",
    "    numberBins = 256\n",
    "    histogram, bins, patch = plt.hist(pixelSequence, numberBins,\n",
    "                                      facecolor='black', histtype='bar')\n",
    "    plt.xlabel(\"gray label\")\n",
    "    plt.ylabel(\"number of pixels\")\n",
    "    plt.axis([0, 255, 0, np.max(histogram)])\n",
    "    plt.show()\n",
    " \n",
    "img = cv.imread(\"dujuan_1.jpg\", 0)\n",
    "out = 2.0 * img\n",
    "# 进行数据截断，大于255的值截断为255\n",
    "out[out > 255] = 255\n",
    "# 数据类型转换\n",
    "out = np.around(out)\n",
    "out = out.astype(np.uint8)\n",
    "# 分别绘制处理前后的直方图\n",
    "# grayHist(img)\n",
    "# grayHist(out)\n",
    "\n",
    "cv.namedWindow(\"dujuan_input\", 0)\n",
    "\n",
    "cv.resizeWindow(\"dujuan_input\", 600, 600)\n",
    "\n",
    "cv.namedWindow(\"dujuan_out\", 0)\n",
    "\n",
    "cv.resizeWindow(\"dujuan_out\", 600, 600)\n",
    "\n",
    "cv.imshow(\"dujuan_input\", img)\n",
    "\n",
    "cv.imshow(\"dujuan_out\", out)\n",
    "\n",
    "cv.waitKey()"
   ]
  },
  {
   "cell_type": "markdown",
   "metadata": {},
   "source": [
    "以上线性变换是对整个灰度级范围使用了相同的参数，有的时候也需要针对不同灰度级范围进行不同的线性变换，\n",
    "\n",
    "这就是常用的分段线性变换，经常用于降低较亮或较暗区域的对比度来增强灰度级处于中间范围的对比度，\n",
    "\n",
    "或者压低中间灰度级处的对比度来增强较亮或者较暗区域的对比度。\n",
    "\n",
    "从下图（a）的灰度直方图（b）可以看出，图像的灰度主要集中在 [100,150]之间，可以通过以下分段线性变换将主要的灰度级拉伸到[50,230]，结果如图（c）所示，对比度拉伸后显然比原图能够更加清晰地看到更多的细节。\n",
    "\n",
    "【图见原文】"
   ]
  },
  {
   "cell_type": "code",
   "execution_count": 11,
   "metadata": {},
   "outputs": [
    {
     "data": {
      "text/plain": [
       "-1"
      ]
     },
     "execution_count": 11,
     "metadata": {},
     "output_type": "execute_result"
    }
   ],
   "source": [
    "img = cv.imread(\"dujuan_1.jpg\", 0)\n",
    "img = cv.resize(img, None, fx=0.3, fy=0.3)\n",
    "h, w = img.shape[:2]\n",
    "out = np.zeros(img.shape, np.uint8)\n",
    "for i in range(h):\n",
    "    for j in range(w):\n",
    "        pix = img[i][j]\n",
    "        if pix < 50:\n",
    "            out[i][j] = 0.5 * pix\n",
    "        elif pix < 150:\n",
    "            out[i][j] = 3.6 * pix - 310\n",
    "        else:\n",
    "            out[i][j] = 0.238 * pix + 194\n",
    "        # 数据类型转换\n",
    "out = np.around(out)\n",
    "out = out.astype(np.uint8)\n",
    "# grayHist(img)\n",
    "# grayHist(out)\n",
    "\n",
    "cv.namedWindow(\"dujuan_input\", 0)\n",
    "\n",
    "cv.resizeWindow(\"dujuan_input\", 600, 600)\n",
    "\n",
    "cv.namedWindow(\"dujuan_out\", 0)\n",
    "\n",
    "cv.resizeWindow(\"dujuan_out\", 600, 600)\n",
    "\n",
    "cv.imshow(\"dujuan_input\", img)\n",
    "\n",
    "cv.imshow(\"dujuan_out\", out)\n",
    "\n",
    "\n",
    "cv.waitKey()"
   ]
  },
  {
   "cell_type": "markdown",
   "metadata": {},
   "source": [
    "线性变换的参数需要根据不同的应用及图像自身的信息进行合理的选择，可能需要进行多次测试，所以选择合适的参数是相当麻烦的。\n",
    "\n",
    "直方图正规化就是基于当前图像情况自动选取a和b的值的方法，下面介绍这种方法。"
   ]
  },
  {
   "cell_type": "markdown",
   "metadata": {},
   "source": [
    "### 3.直方图正规化\n",
    "\n",
    "假设输入图像为I，宽为W，高为H，I(r,c)代表I的第r行第c列的灰度值，\n",
    "\n",
    "将I中出现的最小灰度级记为I_{min}，最大灰度级记为I_{max}，\n",
    "\n",
    "即I(r,c) 属于 [I_{min},I_{max}]，为使输出图像O的灰度级范围为 [O_{min},O_{max}]，I(r,c)和O(r,c)做以下映射关系：\n",
    "\n",
    "O(r,c) = (O_{max}-O_{min})/(I_{max}-I_{min})×(I(r,c)-I_{min}) + O_{min},  0<=r<H,0\\<=c<W\n",
    "\n",
    "这个过程就是直方图正规化，直方图正规化是一种自动选取a和b的值的线性变换方法，其中\n",
    "\n",
    "a = (O_{max}-O_{min})/(I_{max}-I_{min}),b=O_{min}-(O_{max}-O_{min})/(I_{max}-I_{min})×I_{min}\n",
    "\n",
    "下面使用Python代码实现直方图正规化：\n",
    "\n"
   ]
  },
  {
   "cell_type": "code",
   "execution_count": 9,
   "metadata": {},
   "outputs": [
    {
     "data": {
      "text/plain": [
       "-1"
      ]
     },
     "execution_count": 9,
     "metadata": {},
     "output_type": "execute_result"
    }
   ],
   "source": [
    "import cv2 as cv\n",
    "\n",
    "import numpy as np\n",
    "\n",
    "img = cv.imread(\"dujuan_1.jpg\", 0)\n",
    "# 计算原图中出现的最小灰度级和最大灰度级\n",
    "# 使用函数计算\n",
    "Imin, Imax = cv.minMaxLoc(img)[:2]\n",
    "# 使用numpy计算\n",
    "# Imax = np.max(img)\n",
    "# Imin = np.min(img)\n",
    "Omin, Omax = 0, 255\n",
    "# 计算a和b的值\n",
    "a = float(Omax - Omin) / (Imax - Imin)\n",
    "b = Omin - a * Imin\n",
    "out = a * img + b\n",
    "out = out.astype(np.uint8)\n",
    "\n",
    "cv.namedWindow(\"dujuan_input\", 0)\n",
    "\n",
    "cv.resizeWindow(\"dujuan_input\", 600, 600)\n",
    "\n",
    "cv.namedWindow(\"dujuan_out\", 0)\n",
    "\n",
    "cv.resizeWindow(\"dujuan_out\", 600, 600)\n",
    "\n",
    "cv.imshow(\"dujuan_input\", img)\n",
    "\n",
    "cv.imshow(\"dujuan_out\", out)\n",
    "\n",
    "cv.waitKey()"
   ]
  },
  {
   "cell_type": "markdown",
   "metadata": {},
   "source": [
    "代码中计算原图中出现的最小灰度级和最大灰度级可以使用OpenCV提供的函数 \n",
    "\n",
    "minVal, maxVal, minLoc, maxLoc  = cv.minMaxLoc(src[, mask])\n",
    "\n",
    "返回值分别为：最小值，最大值，最小值的位置索引，最大值的位置索引。\n",
    "\n",
    "正规化函数normalize: dst=cv.normalize(src, dst[, alpha[, beta[, norm_type[, dtype[, mask]]]]])\n",
    "\n",
    "使用函数normalize对图像进行对比度增强时，经常令参数norm_type=NORM_MINMAX，此函数内部实现和咱们上边讲的计算方法是相同的，参数alpha相当于O_{max}，参数beta相当于O_{min}。\n",
    "\n",
    "注意，使用normalize可以处理多通道矩阵，分别对每一个通道进行正规化操作。\n",
    "\n",
    "使用该函数的代码如下，实现结果和上边是相同的："
   ]
  },
  {
   "cell_type": "code",
   "execution_count": 7,
   "metadata": {},
   "outputs": [
    {
     "data": {
      "text/plain": [
       "-1"
      ]
     },
     "execution_count": 7,
     "metadata": {},
     "output_type": "execute_result"
    }
   ],
   "source": [
    "img = cv.imread(\"dujuan_1.jpg\", 0)\n",
    "out = np.zeros(img.shape, np.uint8)\n",
    "cv.normalize(img, out, 255, 0, cv.NORM_MINMAX, cv.CV_8U)\n",
    "\n",
    "cv.namedWindow(\"dujuan_input\", 0)\n",
    "\n",
    "cv.resizeWindow(\"dujuan_input\", 600, 600)\n",
    "\n",
    "#cv.namedWindow(\"dujuan_out\", 0)\n",
    "\n",
    "#cv.resizeWindow(\"dujuan_out\", 600, 600)\n",
    "\n",
    "#cv.imshow(\"dujuan_input\", img)\n",
    "\n",
    "#cv.imshow(\"dujuan_out\", out)\n",
    "\n",
    "cv.waitKey()"
   ]
  },
  {
   "cell_type": "markdown",
   "metadata": {},
   "source": [
    "### 4.伽马变换\n",
    "\n",
    "假设输入图像为I，宽为W，高为H，首先将其灰度值归一化到[0,1]范围，对于8位图来说，除以255即可。\n",
    "\n",
    "I(r,c)代表归一化后的第r行第c列的灰度值，输出图像记为O，伽马变换就是O(r,c) = I(r,c)^\\gamma,0\\leqslant r<H,0\\leqslant c<W。当\\gamma =1时，图像不变。\n",
    "\n",
    "如果图像整体或者感兴趣区域较暗，则令0<\\gamma <1可以增加图像对比度；\n",
    "\n",
    "相反，如果图像整体或者感兴趣区域较亮，则令\\gamma >1可以降低图像对比度。\n",
    "\n",
    "图像的伽马变换实质上是对图像矩阵中的每一个值进行幂运算，Numpy提供的幂函数power实现了该功能，\n",
    "\n",
    "代码实现如下："
   ]
  },
  {
   "cell_type": "code",
   "execution_count": 16,
   "metadata": {},
   "outputs": [
    {
     "data": {
      "text/plain": [
       "-1"
      ]
     },
     "execution_count": 16,
     "metadata": {},
     "output_type": "execute_result"
    }
   ],
   "source": [
    "img = cv.imread(\"dujuan_1.jpg\", 0)\n",
    "# 图像归一化\n",
    "fi = img / 255.0\n",
    "# 伽马变换\n",
    "gamma = 0.4\n",
    "out = np.power(fi, gamma)\n",
    "\n",
    "cv.namedWindow(\"dujuan_input\", 0)\n",
    "\n",
    "cv.resizeWindow(\"dujuan_input\", 600, 600)\n",
    "\n",
    "cv.namedWindow(\"dujuan_out\", 0)\n",
    "\n",
    "cv.resizeWindow(\"dujuan_out\", 600, 600)\n",
    "\n",
    "cv.imshow(\"dujuan_input\", img)\n",
    "\n",
    "cv.imshow(\"dujuan_out\", out)\n",
    "cv.waitKey()"
   ]
  },
  {
   "cell_type": "markdown",
   "metadata": {},
   "source": [
    "伽马变换在提升对比度上有比较好的效果，但是需要手动调节\\gamma值。下面介绍一种利用图像的直方图自动调节图像对比度的方法。\n",
    "\n",
    "### 5.全局直方图均衡化\n",
    "\n",
    "对于直方图均衡化的实现主要分为四个步骤：\n",
    "\n",
    "1、计算图像的灰度直方图\n",
    "\n",
    "2、计算灰度直方图的累加直方图\n",
    "\n",
    "3、输入灰度级和输出灰度级之间的映射关系\n",
    "\n",
    "4、根据映射关系循环输出图像的每一个像素的灰度级\n",
    "\n",
    "其中的映射关系是：q=\\frac{\\sum_{k=0}^{p}hist_{I}(k)}{H*W}*256-1，其中q为输出的像素，p为输入的像素。可以这么理解，\n",
    "\\frac{\\sum_{k=0}^{p}hist_{I}(k)}{H*W}这一项相当于是灰度直方图的累加概率直方图(范围在0~1之间)，再将此范围放大至0~255之间便得到输出图像的像素。下面使用程序来实现：\n"
   ]
  },
  {
   "cell_type": "markdown",
   "metadata": {},
   "source": [
    "【文章代码不全】"
   ]
  },
  {
   "cell_type": "markdown",
   "metadata": {},
   "source": [
    "### 6.限制对比度的自适应直方图均衡化\n",
    "\n",
    "自适应直方图均衡化首先将图像划分为不重叠的区域块，然后对每一个块分别进行直方图均衡化。\n",
    "\n",
    "显然，在没有噪声影响的情况下，每一个小区域的灰度直方图会被限制在一个小的灰度级范围内；\n",
    "\n",
    "但是如果有噪声，每一个分割的区域块执行直方图均衡化后，噪声会被放大。\n",
    "\n",
    "为了避免出现噪声这种情况，提出了“限制对比度”(Contrast Limiting)，如果直方图的bin超过了提前预设好的“限制对比度”，那么会被裁剪，然后将裁剪的部分均匀分布到其他的bin，这样就重构了直方图。\n",
    "\n",
    "下面介绍OpenCV实现的限制对比度的自适应直方图均衡化函数，"
   ]
  },
  {
   "cell_type": "code",
   "execution_count": 21,
   "metadata": {},
   "outputs": [
    {
     "data": {
      "text/plain": [
       "-1"
      ]
     },
     "execution_count": 21,
     "metadata": {},
     "output_type": "execute_result"
    }
   ],
   "source": [
    "img = cv.imread(\"dujuan_1.jpg\", 0)\n",
    "img = cv.resize(img, None, fx=0.5, fy=0.5)\n",
    "# 创建CLAHE对象\n",
    "clahe = cv.createCLAHE(clipLimit=2.0, tileGridSize=(8, 8))\n",
    "# 限制对比度的自适应阈值均衡化\n",
    "dst = clahe.apply(img)\n",
    "# 使用全局直方图均衡化\n",
    "equa = cv.equalizeHist(img)\n",
    "# 分别显示原图，CLAHE，HE\n",
    "\n",
    "cv.namedWindow(\"dujuan_input\", 0)\n",
    "\n",
    "cv.resizeWindow(\"dujuan_input\", 600, 600)\n",
    "\n",
    "cv.namedWindow(\"dujuan_dst\", 0)\n",
    "\n",
    "cv.resizeWindow(\"dujuan_dst\", 600, 600)\n",
    "\n",
    "cv.namedWindow(\"dujuan_equa\", 0)\n",
    "\n",
    "cv.resizeWindow(\"dujuan_equa\", 600, 600)\n",
    "\n",
    "cv.imshow(\"dujuan_input\", img)\n",
    "\n",
    "cv.imshow(\"dujuan_dst\", dst)\n",
    "\n",
    "cv.imshow(\"dujuan_equa\", equa)\n",
    "\n",
    "\n",
    "cv.waitKey()"
   ]
  },
  {
   "cell_type": "markdown",
   "metadata": {},
   "source": [
    "OpenCV提供的函数：cv.createCLAHE([, clipLimit[, tileGridSize]])\n",
    "\n",
    "参数\t        解释\n",
    "\n",
    "clipLimit\t   对比度限制的阈值，默认为40\n",
    "tileGridSize\t用于直方图均衡的区域块大小。 输入图像将被分成相同大小的矩形块。 \n",
    "tileGridSize   定义行和列中的块数。默认为(8,8)\n",
    "\n",
    "上图显示了对原图(a)进行限制对比度自适应直方图均衡化(CLAHE)和全局直方图均衡化(HE)的效果，会发现，原图中比较亮的区域，经过HE处理后出现了失真的情况，而且出现了明显的噪声，而CLAHE避免了这两种情况。\n"
   ]
  },
  {
   "cell_type": "markdown",
   "metadata": {},
   "source": [
    "### 7.总结\n",
    "\n",
    "对比度增强只是图像增强方法中的一种手段，对比度拉伸的方法受图像噪声的影响会明显，下一篇介绍去除噪声的方法，去噪之后再使用对比度增强技术效果会更好。\n",
    "\n",
    "本篇文章讲解了灰度直方图的可视化、线性变换、分段线性变换、直方图正规化、伽马变换、全局直方图均衡化、限制对比度的自适应直方图均衡化，使用到的函数有 minMaxLoc()，normalize()，equalizeHist()，createCLAHE()。"
   ]
  },
  {
   "cell_type": "code",
   "execution_count": null,
   "metadata": {},
   "outputs": [],
   "source": []
  }
 ],
 "metadata": {
  "kernelspec": {
   "display_name": "Python 3",
   "language": "python",
   "name": "python3"
  },
  "language_info": {
   "codemirror_mode": {
    "name": "ipython",
    "version": 3
   },
   "file_extension": ".py",
   "mimetype": "text/x-python",
   "name": "python",
   "nbconvert_exporter": "python",
   "pygments_lexer": "ipython3",
   "version": "3.7.8"
  }
 },
 "nbformat": 4,
 "nbformat_minor": 2
}
