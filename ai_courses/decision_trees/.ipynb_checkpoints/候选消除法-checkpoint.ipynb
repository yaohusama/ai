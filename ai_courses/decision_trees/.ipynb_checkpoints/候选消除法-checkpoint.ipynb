{
 "cells": [
  {
   "cell_type": "raw",
   "metadata": {},
   "source": [
    "# 目录\n",
    "1、概念学习原型\n",
    "2、变形空间\n",
    "3、列表消除算法\n",
    "4、候选消除算法\n",
    "本文最后修改时间：20180330\n",
    "\n",
    "1、概念学习原型\n",
    "已知\n",
    "实例空间 X :使用属性描述的实例（定义域）\n",
    "概念空间 C :目标概念集合（值域）\n",
    "假设空间 H :假设集合 (各种映射的集合)\n",
    "训练集合 D :目标概念的正例和反例 （已知的点）\n",
    "⟨x1,c(x1)⟩,⟨x2,c(x2)⟩,...,⟨xm,c(xm)⟩\n",
    "求解（找到一个一一映射的函数）\n",
    "假设 h :满足 h ∈H 且 h(x) = c(x) , x ∈D\n",
    "个人理解，举个简单的栗子：二维坐标中，已知两个点的坐标(0,0)、(1,1)，求一个经过这两点的线，比如有直线y=x，2次曲线y=x2，还有3次曲线y=x3，...，y=xn。x坐标轴上的点组成的集合就是实例空间X，y坐标轴上的点组成的集合就是概念空间C，这些曲线对应的函数集合就是假设空间H，已知的点坐标就是训练集合D\n",
    "\n",
    "2、变形空间\n",
    "定义:一条假设 h 与训练样例集合 D 是一致的,当且仅当对 D 中每条样例 ⟨x,c(x)⟩都有,即\n",
    "Consistent(h,D)≡(∀⟨x,c(x)⟩∈D)h(x)=c(x))\n",
    "定义:假设空间 H 和训练样例集合 D 的变型空间,是 D 中与训练样例集合 H 一致的所有假设h构成的\n",
    "子集合,标记为 VSH,D ,即\n",
    "VSH,D≡{h∈H|Consistent(h,D)}\n",
    "\n",
    "3、列表消除算法\n",
    "变型空间 VS <-- 假设空间中所有假设列表\n",
    "对每个训练样例 ⟨x,c(x)⟩ ,从变型空间 VS 中删除\n",
    "所有满足 h(x)≠c(x) 的假设 h\n",
    "输出变形空间 VS 中的假设列表\n",
    "4、候选消除算法\n",
    "将G集合初始化为H中极大一般假设\n",
    "将S集合初始化为H中极大特殊假设\n",
    "对每个训练例d，进行以下操作：\n",
    "如果d是一正例\n",
    "　　　　• 从G中移去所有与d不一致的假设\n",
    "　　　　 • 对S中每个与d不一致的假设s\n",
    "　　 　　　　•从S中移去s\n",
    "　　　　 　　• 把s的所有的极小一般化式h加入到S中，其中h满足\n",
    "　　　　 　　　　•h与d一致，而且G的某个成员比h更一般\n",
    "　　　　 • 从S中移去所有这样的假设：它比S中另一假设更一般\n",
    "如果d是一个反例\n",
    "　　　　• 从S中移去所有d不一致的假设\n",
    "　　　　 • 对G中每个与d不一致的假设g\n",
    "　　 　　　　•从G中移去g\n",
    "　　　 　　　•把g的所有的极小特殊化式h加入到G中，其中h满足\n",
    "　　　　 　　　　•h与d一致，而且S的某个成员比h更特殊\n",
    "　　　　 •从G中移去所有这样的假设：它比G中另一假设更特殊"
   ]
  },
  {
   "cell_type": "code",
   "execution_count": null,
   "metadata": {},
   "outputs": [],
   "source": []
  }
 ],
 "metadata": {
  "kernelspec": {
   "display_name": "Python 3",
   "language": "python",
   "name": "python3"
  },
  "language_info": {
   "codemirror_mode": {
    "name": "ipython",
    "version": 3
   },
   "file_extension": ".py",
   "mimetype": "text/x-python",
   "name": "python",
   "nbconvert_exporter": "python",
   "pygments_lexer": "ipython3",
   "version": "3.7.0"
  }
 },
 "nbformat": 4,
 "nbformat_minor": 4
}
