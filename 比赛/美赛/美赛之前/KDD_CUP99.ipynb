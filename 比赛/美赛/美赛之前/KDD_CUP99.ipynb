{
 "cells": [
  {
   "cell_type": "markdown",
   "id": "unusual-johns",
   "metadata": {},
   "source": [
    "# KDDCup99网络入侵检测数据集介绍"
   ]
  },
  {
   "cell_type": "markdown",
   "id": "supreme-finger",
   "metadata": {},
   "source": [
    "该数据集是从一个模拟的美国空军局域网上采集来的9个星期的网络连接数据,分成具有标识的训练数据和未加标识的测试数据。测试数据和训练数据有着不同的概率分布,测试数据包含了一些未出现在训练数据中的攻击类型,这使得入侵检测更具有现实性。\n",
    "在训练数据集中包含了1种正常的标识类型normal和22种训练攻击类型,如表1-1所示。另外有14种攻击仅出现在测试数据集中。\n",
    "\n",
    "衡量距离的选择\n",
    "\n",
    "高维度对距离衡量的影响：众所周知当变量数越多，欧式距离的区分能力就越差。\n",
    "变量值域对距离的影响：值域越大的变量常常会在距离计算中占据主导作用，因此应先对变进行标准化。"
   ]
  },
  {
   "cell_type": "markdown",
   "id": "judicial-effects",
   "metadata": {},
   "source": [
    "K值的设定\n",
    "k太小，分类结果易受噪声点影响；k太大，近邻中又可能包含太多的其它类别的点。（对距离加权，可以降低k值设定的影响）\n",
    "k值通常是采用交叉检验来确定（以k=1为基准）\n",
    "经验规则：k一般低于训练样本数的平方根"
   ]
  },
  {
   "cell_type": "code",
   "execution_count": null,
   "id": "hidden-dayton",
   "metadata": {
    "scrolled": true
   },
   "outputs": [],
   "source": [
    "\n",
    "def edit_distance(word1, word2):\n",
    "    len1 = len(word1)\n",
    "    len2 = len(word2)\n",
    "    dp = np.zeros((len1 + 1,len2 + 1))\n",
    "    for i in range(len1 + 1):\n",
    "        dp[i][0] = i    \n",
    "    for j in range(len2 + 1):\n",
    "        dp[0][j] = j\n",
    "     \n",
    "    for i in range(1, len1 + 1):\n",
    "        for j in range(1, len2 + 1):\n",
    "            delta = 0 if word1[i-1] == word2[j-1] else 1\n",
    "            dp[i][j] = min(dp[i - 1][j - 1] + delta, min(dp[i-1][j] + 1, dp[i][j - 1] + 1))\n",
    "    return dp[len1][len2]\n",
    "edit_distance(\"jarrry\", \"jerr\")"
   ]
  },
  {
   "cell_type": "code",
   "execution_count": null,
   "id": "detected-armor",
   "metadata": {},
   "outputs": [],
   "source": [
    "\n",
    "#kdd99数据集预处理\n",
    "#将kdd99符号型数据转化为数值型数据\n",
    " \n",
    "#coding:utf-8\n",
    " \n",
    "import numpy as np\n",
    "import pandas as pd\n",
    "import csv\n",
    "import time\n",
    "global label_list  #label_list为全局变量\n",
    "def edit_distance(word1, word2):\n",
    "    len1 = len(word1)\n",
    "    len2 = len(word2)\n",
    "    dp = np.zeros((len1 + 1,len2 + 1))\n",
    "    for i in range(len1 + 1):\n",
    "        dp[i][0] = i    \n",
    "    for j in range(len2 + 1):\n",
    "        dp[0][j] = j\n",
    "     \n",
    "    for i in range(1, len1 + 1):\n",
    "        for j in range(1, len2 + 1):\n",
    "            delta = 0 if word1[i-1] == word2[j-1] else 1\n",
    "            dp[i][j] = min(dp[i - 1][j - 1] + delta, min(dp[i-1][j] + 1, dp[i][j - 1] + 1))\n",
    "    return dp[len1][len2]\n",
    "#定义kdd99数据预处理函数\n",
    "def preHandel_data():\n",
    "    source_file='kddcup.data_10_percent_corrected'\n",
    "    handled_file='kddcup.data_10_percent_corrected.csv'\n",
    "    data_file=open(handled_file,'w',newline='')     #python3.x中添加newline=''这一参数使写入的文件没有多余的空行\n",
    "    with open(source_file,'r') as data_source:\n",
    "        csv_reader=csv.reader(data_source)\n",
    "        csv_writer=csv.writer(data_file)\n",
    "        count=0   #记录数据的行数，初始化为0\n",
    "        for row in csv_reader:\n",
    "            temp_line=np.array(row)   #将每行数据存入temp_line数组里\n",
    "            temp_line[1]=handleProtocol(row)   #将源文件行中3种协议类型转换成数字标识\n",
    "            temp_line[2]=handleService(row)    #将源文件行中70种网络服务类型转换成数字标识\n",
    "            temp_line[3]=handleFlag(row)       #将源文件行中11种网络连接状态转换成数字标识\n",
    "            temp_line[41]=handleLabel(row)   #将源文件行中23种攻击类型转换成数字标识\n",
    "            csv_writer.writerow(temp_line)\n",
    "            count+=1\n",
    "            #输出每行数据中所修改后的状态\n",
    "            print(count,'status:',temp_line[1],temp_line[2],temp_line[3],temp_line[41])\n",
    "        data_file.close()\n",
    " \n",
    " \n",
    "#将相应的非数字类型转换为数字标识即符号型数据转化为数值型数据\n",
    "def find_index(x,y):\n",
    "    return [i for i in range(len(y)) if y[i]==x]\n",
    " \n",
    "#定义将源文件行中3种协议类型转换成数字标识的函数\n",
    "def handleProtocol(input):\n",
    "    protocol_list=['tcp','udp','icmp']\n",
    "\n",
    "    if input[1] in protocol_list:\n",
    "        return find_index(input[1],protocol_list)[0]\n",
    " \n",
    "#定义将源文件行中70种网络服务类型转换成数字标识的函数\n",
    "def handleService(input):\n",
    "   service_list=['aol','auth','bgp','courier','csnet_ns','ctf','daytime','discard','domain','domain_u',\n",
    "                 'echo','eco_i','ecr_i','efs','exec','finger','ftp','ftp_data','gopher','harvest','hostnames',\n",
    "                 'http','http_2784','http_443','http_8001','imap4','IRC','iso_tsap','klogin','kshell','ldap',\n",
    "                 'link','login','mtp','name','netbios_dgm','netbios_ns','netbios_ssn','netstat','nnsp','nntp',\n",
    "                 'ntp_u','other','pm_dump','pop_2','pop_3','printer','private','red_i','remote_job','rje','shell',\n",
    "                 'smtp','sql_net','ssh','sunrpc','supdup','systat','telnet','tftp_u','tim_i','time','urh_i','urp_i',\n",
    "                 'uucp','uucp_path','vmnet','whois','X11','Z39_50']\n",
    "   if input[2] in service_list:\n",
    "       return find_index(input[2],service_list)[0]\n",
    " \n",
    "#定义将源文件行中11种网络连接状态转换成数字标识的函数\n",
    "def handleFlag(input):\n",
    "    flag_list=['OTH','REJ','RSTO','RSTOS0','RSTR','S0','S1','S2','S3','SF','SH']\n",
    "    if input[3] in flag_list:\n",
    "        return find_index(input[3],flag_list)[0]\n",
    " \n",
    "#定义将源文件行中攻击类型转换成数字标识的函数(训练集中共出现了22个攻击类型，而剩下的17种只在测试集中出现)\n",
    "def handleLabel(input):\n",
    "    #label_list=['normal.', 'buffer_overflow.', 'loadmodule.', 'perl.', 'neptune.', 'smurf.',\n",
    "    # 'guess_passwd.', 'pod.', 'teardrop.', 'portsweep.', 'ipsweep.', 'land.', 'ftp_write.',\n",
    "    # 'back.', 'imap.', 'satan.', 'phf.', 'nmap.', 'multihop.', 'warezmaster.', 'warezclient.',\n",
    "    # 'spy.', 'rootkit.']\n",
    "    global label_list  #在函数内部使用全局变量并修改它\n",
    "    if input[41] in label_list:\n",
    "        return find_index(input[41],label_list)[0]\n",
    "    else:\n",
    "        label_list.append(input[41])\n",
    "        return find_index(input[41],label_list)[0]\n",
    " \n",
    "if __name__=='__main__':\n",
    "    start_time=time.clock()\n",
    "    global label_list   #声明一个全局变量的列表并初始化为空\n",
    "    label_list=[]\n",
    "    preHandel_data()\n",
    "    end_time=time.clock()\n",
    "    print(\"Running time:\",(end_time-start_time))  #输出程序运行时间"
   ]
  },
  {
   "cell_type": "markdown",
   "id": "monetary-bracket",
   "metadata": {},
   "source": [
    "缺失值处理："
   ]
  },
  {
   "cell_type": "code",
   "execution_count": null,
   "id": "illegal-hopkins",
   "metadata": {},
   "outputs": [],
   "source": [
    "def del_nul():\n",
    "    source_file='kddcup.data_10_percent_corrected'\n",
    "    handled_file='kddcup.data_10_percent_corrected1.csv'\n",
    "    data_file=open(handled_file,'w',newline='')     #python3.x中添加newline=''这一参数使写入的文件没有多余的空行\n",
    "    with open(source_file,'r') as data_source:\n",
    "        csv_reader=csv.reader(data_source)\n",
    "        csv_writer=csv.writer(data_file)\n",
    "        count=0   #记录数据的行数，初始化为0\n",
    "        for row in csv_reader:\n",
    "            row=np.array(row)\n",
    "            flag=0\n",
    "            for col in row:\n",
    "                if len(col) ==0:\n",
    "                    flag=1\n",
    "                    break\n",
    "            if flag:\n",
    "                continue\n",
    "            csv_writer.writerow(row)\n",
    "            \n",
    "            count+=1\n",
    "            #输出每行数据中所修改后的状态\n",
    "        print(count)\n",
    "        data_file.close()\n",
    "del_nul()#无缺失值，除了删除缺失值，还可以进行拉格朗日插值"
   ]
  },
  {
   "cell_type": "markdown",
   "id": "beginning-remove",
   "metadata": {},
   "source": [
    "可进行命名实体识别来观察是否有相同的列名或者同义，或者根据相关系数进行降维。"
   ]
  },
  {
   "cell_type": "code",
   "execution_count": null,
   "id": "secure-image",
   "metadata": {},
   "outputs": [],
   "source": [
    "import matplotlib.pyplot as plt\n",
    "def edit_distance(word1, word2):#计算服务字段的各个类型编辑距离，聚类再编号\n",
    "    len1 = len(word1)\n",
    "    len2 = len(word2)\n",
    "    dp = np.zeros((len1 + 1,len2 + 1))\n",
    "    for i in range(len1 + 1):\n",
    "        dp[i][0] = i    \n",
    "    for j in range(len2 + 1):\n",
    "        dp[0][j] = j\n",
    "     \n",
    "    for i in range(1, len1 + 1):\n",
    "        for j in range(1, len2 + 1):\n",
    "            delta = 0 if word1[i-1] == word2[j-1] else 1\n",
    "            dp[i][j] = min(dp[i - 1][j - 1] + delta, min(dp[i-1][j] + 1, dp[i][j - 1] + 1))\n",
    "    return dp[len1][len2]\n",
    "def edit_distance_list(lis):\n",
    "    res=len(lis)\n",
    "    mat=[[0]*res]*res\n",
    "    for i in range(res):\n",
    "        for j in range(res):\n",
    "            mat[i][j]=edit_distance(lis[i],lis[j])\n",
    "    return mat\n",
    "service_list =['aol','auth','bgp','courier','csnet_ns','ctf','daytime','discard','domain','domain_u',\n",
    "                 'echo','eco_i','ecr_i','efs','exec','finger','ftp','ftp_data','gopher','harvest','hostnames',\n",
    "                 'http','http_2784','http_443','http_8001','imap4','IRC','iso_tsap','klogin','kshell','ldap',\n",
    "                 'link','login','mtp','name','netbios_dgm','netbios_ns','netbios_ssn','netstat','nnsp','nntp',\n",
    "                 'ntp_u','other','pm_dump','pop_2','pop_3','printer','private','red_i','remote_job','rje','shell',\n",
    "                 'smtp','sql_net','ssh','sunrpc','supdup','systat','telnet','tftp_u','tim_i','time','urh_i','urp_i',\n",
    "                 'uucp','uucp_path','vmnet','whois','X11','Z39_50']\n",
    "mat=edit_distance_list(service_list)\n",
    "print(np.shape(mat))\n",
    "%matplotlib tk\n",
    "import seaborn as sns\n",
    "plt.subplots(figsize=(100,100))\n",
    "sns.heatmap(mat, annot=True, vmax=1, square=True, cmap='Blues')\n",
    "plt.show()"
   ]
  },
  {
   "cell_type": "code",
   "execution_count": null,
   "id": "significant-reach",
   "metadata": {},
   "outputs": [],
   "source": [
    "# import editdistance\n",
    "def edit_distance(word1, word2):#计算服务字段的各个类型编辑距离，聚类再编号\n",
    "    len1 = len(word1)\n",
    "    len2 = len(word2)\n",
    "    dp = np.zeros((len1 + 1,len2 + 1))\n",
    "    for i in range(len1 + 1):\n",
    "        dp[i][0] = i    \n",
    "    for j in range(len2 + 1):\n",
    "        dp[0][j] = j\n",
    "     \n",
    "    for i in range(1, len1 + 1):\n",
    "        for j in range(1, len2 + 1):\n",
    "            delta = 0 if word1[i-1] == word2[j-1] else 1\n",
    "            dp[i][j] = min(dp[i - 1][j - 1] + delta, min(dp[i-1][j] + 1, dp[i][j - 1] + 1))\n",
    "    return dp[len1][len2]\n",
    "def editdance_cluster(text_lists, thred=1):\n",
    "    clusters = []\n",
    "    for text in text_lists:\n",
    "        flag = False\n",
    "        for cluster in clusters:\n",
    "            for _text in cluster:\n",
    "                if edit_distance(text, _text)<=thred:\n",
    "                    cluster.add(text)\n",
    "                    flag=True\n",
    "                    break\n",
    "            if flag:\n",
    "                break\n",
    "        if not flag:\n",
    "            clusters.append({text})\n",
    "    \n",
    "    valid_clusters = [i for i in clusters if len(i)>1]\n",
    "    print('total clusters:{}, valid clusters:{}'.format(len(clusters), len(valid_clusters)))\n",
    "    return valid_clusters\n",
    "\n",
    "if __name__==\"__main__\":\n",
    "    \n",
    "    text_lists= ['粤A12345', '粤A12045', '粤A12046', '粤A0']\n",
    "    print('bigin cluster...')\n",
    "    valid_clusters=editdance_cluster(text_lists)\n",
    "    print(valid_clusters[:10])"
   ]
  },
  {
   "cell_type": "markdown",
   "id": "romantic-queensland",
   "metadata": {},
   "source": [
    "考虑即使把它分为几类，但那几类的标签还是连续的，无法解释其中距离远近，最重要的是调整顺序后，可能会出现不同的函数形式。除非用onehot编码，这样的话，相当于把极近的设为1类，用同一个编码，实际上还是onehot。如果以一个为准，两两相距的距离为编辑距离，但是不一定在一维上或者二维，无法确定准确位置即编码，重点体现出编辑距离，又作为编码的形式。"
   ]
  },
  {
   "cell_type": "markdown",
   "id": "auburn-kitchen",
   "metadata": {},
   "source": [
    "不如直接把字母转为数字，一个单词就各字母代表的数字求和，但是没有考虑到顺序带来的影响，对于有先后顺序的往往都要RNN。所以效果也不好。就还是onehot编码。"
   ]
  },
  {
   "cell_type": "code",
   "execution_count": null,
   "id": "crucial-estate",
   "metadata": {},
   "outputs": [],
   "source": [
    "\n",
    "flag_list=['OTH','REJ','RSTO','RSTOS0','RSTR','S0','S1','S2','S3','SF','SH']\n",
    "service_list =['aol','auth','bgp','courier','csnet_ns','ctf','daytime','discard','domain','domain_u',\n",
    "             'echo','eco_i','ecr_i','efs','exec','finger','ftp','ftp_data','gopher','harvest','hostnames',\n",
    "             'http','http_2784','http_443','http_8001','imap4','IRC','iso_tsap','klogin','kshell','ldap',\n",
    "             'link','login','mtp','name','netbios_dgm','netbios_ns','netbios_ssn','netstat','nnsp','nntp',\n",
    "             'ntp_u','other','pm_dump','pop_2','pop_3','printer','private','red_i','remote_job','rje','shell',\n",
    "             'smtp','sql_net','ssh','sunrpc','supdup','systat','telnet','tftp_u','tim_i','time','urh_i','urp_i',\n",
    "             'uucp','uucp_path','vmnet','whois','X11','Z39_50']\n",
    "protocol_list=['tcp','udp','icmp']\n",
    "label_list=['normal.', 'buffer_overflow.', 'loadmodule.', 'perl.', 'neptune.', 'smurf.',\n",
    "            'guess_passwd.', 'pod.', 'teardrop.', 'portsweep.', 'ipsweep.', 'land.', 'ftp_write.',\n",
    "            'back.', 'imap.', 'satan.', 'phf.', 'nmap.', 'multihop.', 'warezmaster.', 'warezclient.',\n",
    "            'spy.', 'rootkit.']\n",
    "def find_index(x,y):\n",
    "    return [i for i in range(len(y)) if y[i]==x]\n",
    "def one_hot(i,total):\n",
    "    res=[0]*total\n",
    "    res[i]=1\n",
    "    return res\n",
    "def handleProtocol(input):\n",
    "    if input[1] in protocol_list:\n",
    "        return one_hot(find_index(input[1],protocol_list)[0],3)\n",
    "def handleService(input):\n",
    "    if input[2] in service_list:\n",
    "        return one_hot(find_index(input[2],service_list)[0],70)\n",
    "def handleFlag(input):\n",
    "    if input[3] in flag_list:\n",
    "        return one_hot(find_index(input[3],flag_list)[0],11)\n",
    "# def handleLabel(input):\n",
    "#     if input[41] in label_list:\n",
    "#         return one_hot(find_index(input[41],label_list)[0],23)\n",
    "source_file='kddcup.data_10_percent_corrected1.csv'\n",
    "handled_file='kddcup.data_10_percent_corrected2.csv'\n",
    "data_file=open(handled_file,'w',newline='')\n",
    "with open(source_file,'r') as data_source:\n",
    "        csv_reader=csv.reader(data_source)\n",
    "        csv_writer=csv.writer(data_file)\n",
    "        count=0   #记录数据的行数，初始化为0\n",
    "        for row in csv_reader:\n",
    "#                 temp_line=np.array(row)   #将每行数据存入temp_line数组里\n",
    "            temp_line=[]\n",
    "            temp_line.append(row[0])\n",
    "            temp_line.extend(handleProtocol(row))   #将源文件行中3种协议类型转换成数字标识\n",
    "            temp_line.extend(handleService(row))    #将源文件行中70种网络服务类型转换成数字标识\n",
    "            temp_line.extend(handleFlag(row))       #将源文件行中11种网络连接状态转换成数字标识\n",
    "            temp_line.extend(row[4:41])\n",
    "            tmp=find_index(row[41],label_list)[0]\n",
    "            temp_line.append(tmp!=0)   #将源文件行中23种攻击类型转换成数字标识\n",
    "            csv_writer.writerow(temp_line)\n",
    "            count+=1\n",
    "            #输出每行数据中所修改后的状态\n",
    "#                 print(count,'status:',temp_line[1],temp_line[2],temp_line[3],temp_line[41])\n",
    "            #输出每行数据中所修改后的状态\n",
    "        print(count)\n",
    "        data_file.close()"
   ]
  },
  {
   "cell_type": "code",
   "execution_count": null,
   "id": "marine-vegetation",
   "metadata": {},
   "outputs": [],
   "source": [
    "data=pd.read_csv('kddcup.data_10_percent_corrected2.csv')\n",
    "train_part=[:,[:-1]]\n",
    "test_part=data[:,[-1]]\n",
    "(data-data.mean())/(data.std())\n",
    "data.to_csv('kddcup.data_10_percent_corrected3.csv')"
   ]
  },
  {
   "cell_type": "code",
   "execution_count": null,
   "id": "sufficient-creation",
   "metadata": {},
   "outputs": [],
   "source": [
    "分析数据："
   ]
  },
  {
   "cell_type": "markdown",
   "id": "listed-memory",
   "metadata": {},
   "source": [
    "对于字符串的编码不应直接按从1开始编码，而是根据内在相关性，要么就是直接onehot编码，但会产生稀疏矩阵，可以通过只存储非0元素，也可以转置运算等。"
   ]
  },
  {
   "cell_type": "markdown",
   "id": "frozen-punch",
   "metadata": {},
   "source": [
    "如果是onehot编码就是互不相关，并不太好。一般系数矩阵通过余弦相似度进行降维。"
   ]
  },
  {
   "cell_type": "markdown",
   "id": "transsexual-piece",
   "metadata": {},
   "source": [
    "在主成分分析（PCA）原理总结中，我们对降维算法PCA做了总结。这里我们就对另外一种经典的降维方法线性判别分析（Linear Discriminant Analysis, 以下简称LDA）做一个总结。LDA在模式识别领域（比如人脸识别，舰艇识别等图形图像识别领域）中有非常广泛的应用，因此我们有必要了解下它的算法原理。\n",
    "\n",
    "　　　　在学习LDA之前，有必要将其自然语言处理领域的LDA区别开来，在自然语言处理领域， LDA是隐含狄利克雷分布（Latent Dirichlet Allocation，简称LDA），他是一种处理文档的主题模型。我们本文只讨论线性判别分析，因此后面所有的LDA均指线性判别分析。"
   ]
  },
  {
   "cell_type": "markdown",
   "id": "proud-sunset",
   "metadata": {},
   "source": [
    "LDA，线性判别分析：https://www.cnblogs.com/pinard/p/6244265.html"
   ]
  },
  {
   "cell_type": "markdown",
   "id": "provincial-saver",
   "metadata": {},
   "source": [
    "PCA依靠方差，LDA依靠均值。PCA：https://blog.csdn.net/program_developer/article/details/80632779"
   ]
  },
  {
   "cell_type": "markdown",
   "id": "accompanied-album",
   "metadata": {},
   "source": [
    "文本相似度计算：https://blog.csdn.net/qq_28031525/article/details/79596376"
   ]
  },
  {
   "cell_type": "markdown",
   "id": "understood-facility",
   "metadata": {},
   "source": [
    "# 文本编码分类"
   ]
  },
  {
   "cell_type": "code",
   "execution_count": null,
   "id": "swiss-perspective",
   "metadata": {},
   "outputs": [],
   "source": [
    "from jieba import cut\n",
    "from sklearn.linear_model import LogisticRegression\n",
    "from sklearn.feature_extraction.text import TfidfVectorizer\n",
    "\n",
    "\"\"\"语料\"\"\"\n",
    "texts = [\n",
    "    '三个只有一个是新鲜的，其它两个都坏了，买得最差的一次水果',\n",
    "    '京东，才发现你是个骗子，服务更是一样的烂',\n",
    "    '火龙果很小，而且还有一个烂了，发霉了',\n",
    "    '物流慢，收到时有两个底部已开始腐烂',\n",
    "    '屏幕清晰度不高，而且运行速度巨慢',\n",
    "    '贝质量很好，款式时尚，大小合适，做工精致，穿着舒服，服务很好',\n",
    "    '质量很好的，款式也不错，看起来高档大气，卖家服务还好，不错',\n",
    "    '裤子收到了，质量不错，价格便宜，穿着舒服，下次我还会来买的',\n",
    "    '宝贝收到了，试了一下，穿上挺舒服的，是正品，综合给好评',\n",
    "    '裤子挺好看，质量也不错，老公搭配衣服挺好看也很喜欢穿',\n",
    "]\n",
    "y = [0, 0, 0, 0, 0, 1, 1, 1, 1, 1]\n",
    "\n",
    "\"\"\"向量转换器\"\"\"\n",
    "vectorizer = TfidfVectorizer(tokenizer=cut, stop_words=set('的在了是和也有为就都说等与才这，'))\n",
    "X = vectorizer.fit_transform(texts)\n",
    "\n",
    "\"\"\"分类模型\"\"\"\n",
    "clf = LogisticRegression()\n",
    "clf.fit(X, y)\n",
    "print(clf.score(X, y))"
   ]
  },
  {
   "cell_type": "code",
   "execution_count": null,
   "id": "constitutional-steps",
   "metadata": {},
   "outputs": [],
   "source": [
    "print(X)"
   ]
  },
  {
   "cell_type": "code",
   "execution_count": null,
   "id": "boolean-disabled",
   "metadata": {},
   "outputs": [],
   "source": [
    "from jieba import cut\n",
    "from sklearn.model_selection import train_test_split\n",
    "from sklearn.feature_extraction.text import TfidfVectorizer\n",
    "from sklearn.linear_model import LogisticRegression\n",
    "from warnings import filterwarnings\n",
    "filterwarnings('ignore')\n",
    "\n",
    "\n",
    "def get_data():\n",
    "    y, x, xh, xb = [], [], [], []\n",
    "    with open('policy.txt', encoding='utf-8') as f:\n",
    "        for rows in f.read().strip().split('\\n\\n'):\n",
    "            label, head, body = rows.split('\\n', 2)\n",
    "            y.append(label)\n",
    "            x.append(head + '\\n' + body)\n",
    "            xh.append(head)\n",
    "            xb.append(body)\n",
    "    return y, x, xh, xb\n",
    "\n",
    "\n",
    "def cut1(text):\n",
    "    \"\"\"cut1\"\"\"\n",
    "    for word in cut(text):\n",
    "        if word.strip():\n",
    "            yield word.strip()\n",
    "\n",
    "\n",
    "def cut2(line):\n",
    "    \"\"\"cut2\"\"\"\n",
    "    head, body = line.split('\\n', 1)\n",
    "    for word in cut1(head):\n",
    "        yield word + 'H'\n",
    "    for word in cut1(body):\n",
    "        yield word + 'B'\n",
    "\n",
    "\n",
    "def clf_text(name, x, y, tokenizer=cut1):\n",
    "    # 数据切分\n",
    "    x_train, x_test, y_train, y_test = train_test_split(x, y, random_state=7)\n",
    "    # 向量化\n",
    "    vectorizer = TfidfVectorizer(tokenizer=tokenizer, min_df=2)\n",
    "    x_train = vectorizer.fit_transform(x_train)\n",
    "    x_test = vectorizer.transform(x_test)\n",
    "    # 建模\n",
    "    clf = LogisticRegression()\n",
    "    clf.fit(x_train, y_train)\n",
    "    print(name, tokenizer.__doc__, clf.score(x_test, y_test))\n",
    "\n",
    "\n",
    "_y, _x, _xh, _xb = get_data()\n",
    "clf_text('head', _xh, _y)\n",
    "clf_text('body', _xb, _y)\n",
    "clf_text('h++b', _x, _y)\n",
    "clf_text('h++b', _x, _y, cut2)\n"
   ]
  },
  {
   "attachments": {
    "image.png": {
     "image/png": "[encoded data removed]"
    }
   },
   "cell_type": "markdown",
   "id": "naughty-performer",
   "metadata": {},
   "source": [
    "![image.png](attachment:image.png)"
   ]
  },
  {
   "cell_type": "code",
   "execution_count": null,
   "id": "closing-probability",
   "metadata": {},
   "outputs": [],
   "source": [
    "from sklearn.feature_extraction.text import CountVectorizer\n",
    "corpus = ['air air ball call', 'air ball ball', 'air air air']\n",
    "vectorizer = CountVectorizer()  # 创建文本向量转换器\n",
    "vectorizer.fit(corpus)  # 训练\n",
    "X = vectorizer.transform(corpus)  # 转换\n",
    "print(X, type(X), X[0], type(X[0]), sep='\\n')"
   ]
  },
  {
   "cell_type": "code",
   "execution_count": null,
   "id": "demonstrated-flight",
   "metadata": {},
   "outputs": [],
   "source": [
    "import jieba\n",
    "from sklearn.feature_extraction.text import TfidfVectorizer\n",
    "# 语料\n",
    "texts = ['小米苹果华为小米', '苹果小米苹果', '小米小米']\n",
    "# 向量化\n",
    "vectorizer = TfidfVectorizer(tokenizer=jieba.cut)\n",
    "X = vectorizer.fit_transform(texts)\n",
    "print(X)\n",
    "print(X.toarray())"
   ]
  },
  {
   "cell_type": "code",
   "execution_count": null,
   "id": "aboriginal-waste",
   "metadata": {},
   "outputs": [],
   "source": [
    "import jieba\n",
    "from sklearn.feature_extraction.text import CountVectorizer\n",
    "# 语料\n",
    "texts = ['小米、小米、苹果、华为', '小米和苹果、1+和苹果', '华为和小米']\n",
    "# 分词器\n",
    "jieba.add_word('1+', 2, 'nz')\n",
    "tokenizer = lambda s: jieba.cut(s, HMM=False)#不适用HMM\n",
    "# 停词\n",
    "stop_words = {'、', '和', '的'}\n",
    "# 向量化\n",
    "vectorizer = CountVectorizer(tokenizer=tokenizer, stop_words=stop_words, max_features=3)\n",
    "X = vectorizer.fit_transform(texts)\n",
    "print(X)\n",
    "print(list(tokenizer('小米华为苹果1+')))\n",
    "print(vectorizer.transform(['小米、华为、苹果和1+']))"
   ]
  },
  {
   "cell_type": "code",
   "execution_count": null,
   "id": "continued-irish",
   "metadata": {},
   "outputs": [],
   "source": [
    "from numpy import array\n",
    "from scipy.sparse import csr_matrix, csc_matrix\n",
    "a = array([[0, 0, -2, 0],\n",
    "           [-1, 0, 3, 0],\n",
    "           [0, 0, 0, -9]])\n",
    "csr = csr_matrix(a)\n",
    "csc = csc_matrix(a)\n",
    "print(a, csr, type(csr), csc, type(csc), csc.toarray(), sep='\\n\\n')"
   ]
  },
  {
   "cell_type": "code",
   "execution_count": null,
   "id": "fourth-responsibility",
   "metadata": {},
   "outputs": [],
   "source": [
    "from collections import Counter\n",
    "from jieba import cut\n",
    "texts = ['酸奶蛋糕', '酸奶芝士', '芝士酸奶']\n",
    "counter = Counter(word for text in texts for word in cut(text))\n",
    "print(counter)\n",
    "word2id = {c[0]: i for i, c in enumerate(counter.most_common())}#按出现次数排序\n",
    "print(word2id)"
   ]
  },
  {
   "cell_type": "code",
   "execution_count": null,
   "id": "environmental-beverage",
   "metadata": {},
   "outputs": [],
   "source": [
    "#onehot\n",
    "length = len(word2id)\n",
    "for word, wid in word2id.items():\n",
    "    vector = [0] * length\n",
    "    vector[wid] = 1\n",
    "    print(word, vector)"
   ]
  },
  {
   "cell_type": "markdown",
   "id": "spiritual-steps",
   "metadata": {},
   "source": [
    "# 共现矩阵和SVD"
   ]
  },
  {
   "cell_type": "code",
   "execution_count": null,
   "id": "aerial-property",
   "metadata": {},
   "outputs": [],
   "source": [
    "# 编造文本、分词\n",
    "from jieba import lcut\n",
    "sentences = ['我吴彦祖', '我张学友', '吴彦祖我', '张学友我刘德华吴彦祖',\n",
    "             '酸奶芝士', '芝士酸奶', '芝士蛋糕', '酸奶芝士蛋糕']\n",
    "ls_of_words = [lcut(sentence) for sentence in sentences]\n",
    "\n",
    "# 生成字典和词ID\n",
    "from gensim.corpora import Dictionary\n",
    "dt = Dictionary(ls_of_words).token2id\n",
    "ls_of_wids = [[dt[word] for word in words] for words in ls_of_words]\n",
    "\n",
    "# 共现矩阵#体现两个词之间的关系，矩阵形式\n",
    "import numpy as np\n",
    "dimension = len(dt)  # 维数\n",
    "matrix = np.matrix([[0] * dimension] * dimension)\n",
    "def co_occurrence_matrix(ls):\n",
    "    length = len(ls)\n",
    "    for i in range(length):\n",
    "        for j in range(length):\n",
    "            if i != j:\n",
    "                matrix[[ls[i]], [ls[j]]] += 1\n",
    "for ls in ls_of_wids:\n",
    "    co_occurrence_matrix(ls)\n",
    "print(matrix)\n",
    "\n",
    "# 奇异值分解（Singular Value Decomposition）\n",
    "U, s, Vh = np.linalg.svd(matrix, full_matrices=False)#full_matrices的取值是为0或者1，默认值为1，这时u的大小为(M,M)，v的大小为(N,N) 。否则u的大小为(M,K)，v的大小为(K,N) ，K=min(M,N)。\n",
    "\n",
    "# 聚类\n",
    "X = -U[:, 0:2]\n",
    "from sklearn.cluster import KMeans\n",
    "labels = KMeans(n_clusters=2).fit(X).labels_\n",
    "colors = ('y', 'g')\n",
    "\n",
    "# 可视化\n",
    "import matplotlib.pyplot as mp\n",
    "mp.rcParams['font.sans-serif'] = ['SimHei']  # 显示中文\n",
    "for word in dt.keys():\n",
    "    i = dt[word]\n",
    "    mp.scatter(X[i, 1], X[i, 0], c=colors[labels[i]], s=400, alpha=0.4)\n",
    "    mp.text(X[i, 1], X[i, 0], word, ha='center', va='center')\n",
    "mp.show()\n"
   ]
  },
  {
   "cell_type": "markdown",
   "id": "ready-sheep",
   "metadata": {},
   "source": [
    "以上来源于：https://blog.csdn.net/Yellow_python/article/details/97677183"
   ]
  },
  {
   "attachments": {
    "image.png": {
     "image/png": "[encoded data removed]"
    }
   },
   "cell_type": "markdown",
   "id": "final-transcript",
   "metadata": {},
   "source": [
    "\n",
    "![image.png](attachment:image.png)词袋法不考虑顺序，考虑频率。以上是稀疏矩阵只表示了非0元素的方法。"
   ]
  },
  {
   "cell_type": "markdown",
   "id": "south-sessions",
   "metadata": {},
   "source": [
    "使用map将有大小关系的离散量直接映射到数值："
   ]
  },
  {
   "cell_type": "code",
   "execution_count": null,
   "id": "placed-linux",
   "metadata": {},
   "outputs": [],
   "source": [
    "import pandas as pd   \n",
    "df = pd.DataFrame([    \n",
    "            ['green', 'M', 10.1, 'label1'],     \n",
    "            ['red', 'L', 13.5, 'label2'],     \n",
    "            ['blue', 'XL', 15.3, 'label2']])    \n",
    "# color、label不具备大小含义，size具有大小意义  \n",
    "df.columns = ['color', 'size', 'length', 'label']\n",
    "size_mapping = {    \n",
    "           'XL': 3,    \n",
    "           'L': 2,    \n",
    "           'M': 1}    \n",
    "df['size'] = df['size'].map(size_mapping)    "
   ]
  },
  {
   "cell_type": "code",
   "execution_count": null,
   "id": "possible-guitar",
   "metadata": {},
   "outputs": [],
   "source": [
    "print(df)"
   ]
  },
  {
   "cell_type": "code",
   "execution_count": null,
   "id": "flying-welsh",
   "metadata": {},
   "outputs": [],
   "source": []
  }
 ],
 "metadata": {
  "kernelspec": {
   "display_name": "Python 3",
   "language": "python",
   "name": "python3"
  },
  "language_info": {
   "codemirror_mode": {
    "name": "ipython",
    "version": 3
   },
   "file_extension": ".py",
   "mimetype": "text/x-python",
   "name": "python",
   "nbconvert_exporter": "python",
   "pygments_lexer": "ipython3",
   "version": "3.7.8"
  }
 },
 "nbformat": 4,
 "nbformat_minor": 5
}
