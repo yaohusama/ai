{
 "cells": [
  {
   "cell_type": "code",
   "execution_count": null,
   "id": "dried-cement",
   "metadata": {},
   "outputs": [],
   "source": [
    "import pandas as pd\n",
    "import csv\n",
    "import numpy as np\n",
    "def del_nul():\n",
    "    source_file='kddcup.data_10_percent_corrected'\n",
    "    handled_file='kddcup.data_10_percent_corrected1.csv'\n",
    "    data_file=open(handled_file,'w',newline='')     #python3.x中添加newline=''这一参数使写入的文件没有多余的空行\n",
    "    with open(source_file,'r') as data_source:\n",
    "        csv_reader=csv.reader(data_source)\n",
    "        csv_writer=csv.writer(data_file)\n",
    "        count=0   #记录数据的行数，初始化为0\n",
    "        for row in csv_reader:\n",
    "            row=np.array(row)\n",
    "            flag=0\n",
    "            for col in row:\n",
    "                if len(col) ==0:\n",
    "                    flag=1\n",
    "                    break\n",
    "            if flag:\n",
    "                continue\n",
    "            csv_writer.writerow(row)\n",
    "            \n",
    "            count+=1\n",
    "            #输出每行数据中所修改后的状态\n",
    "        print(count)\n",
    "        data_file.close()\n",
    "del_nul()#无缺失值，除了删除缺失值，还可以进行拉格朗日插值"
   ]
  },
  {
   "cell_type": "code",
   "execution_count": null,
   "id": "dimensional-young",
   "metadata": {},
   "outputs": [],
   "source": [
    "data0=pd.read_csv('kddcup.data_10_percent_corrected1.csv')\n",
    "print(data.columns)"
   ]
  },
  {
   "cell_type": "code",
   "execution_count": null,
   "id": "constant-pursuit",
   "metadata": {},
   "outputs": [],
   "source": [
    "print(data0)"
   ]
  },
  {
   "cell_type": "code",
   "execution_count": null,
   "id": "reserved-detective",
   "metadata": {},
   "outputs": [],
   "source": [
    "\n",
    "flag_list=['OTH','REJ','RSTO','RSTOS0','RSTR','S0','S1','S2','S3','SF','SH']\n",
    "service_list =['aol','auth','bgp','courier','csnet_ns','ctf','daytime','discard','domain','domain_u',\n",
    "             'echo','eco_i','ecr_i','efs','exec','finger','ftp','ftp_data','gopher','harvest','hostnames',\n",
    "             'http','http_2784','http_443','http_8001','imap4','IRC','iso_tsap','klogin','kshell','ldap',\n",
    "             'link','login','mtp','name','netbios_dgm','netbios_ns','netbios_ssn','netstat','nnsp','nntp',\n",
    "             'ntp_u','other','pm_dump','pop_2','pop_3','printer','private','red_i','remote_job','rje','shell',\n",
    "             'smtp','sql_net','ssh','sunrpc','supdup','systat','telnet','tftp_u','tim_i','time','urh_i','urp_i',\n",
    "             'uucp','uucp_path','vmnet','whois','X11','Z39_50']\n",
    "protocol_list=['tcp','udp','icmp']\n",
    "label_list=['normal.', 'buffer_overflow.', 'loadmodule.', 'perl.', 'neptune.', 'smurf.',\n",
    "            'guess_passwd.', 'pod.', 'teardrop.', 'portsweep.', 'ipsweep.', 'land.', 'ftp_write.',\n",
    "            'back.', 'imap.', 'satan.', 'phf.', 'nmap.', 'multihop.', 'warezmaster.', 'warezclient.',\n",
    "            'spy.', 'rootkit.']\n",
    "def find_index(x,y):\n",
    "    return [i for i in range(len(y)) if y[i]==x]\n",
    "def one_hot(i,total):\n",
    "    res=[0]*total\n",
    "    res[i]=1\n",
    "#     print(res)\n",
    "    return res\n",
    "def handleProtocol(input):\n",
    "    if input[1] in protocol_list:\n",
    "        return one_hot(find_index(input[1],protocol_list)[0],3)\n",
    "def handleService(input):\n",
    "    if input[2] in service_list:\n",
    "        return one_hot(find_index(input[2],service_list)[0],70)\n",
    "def handleFlag(input):\n",
    "    if input[3] in flag_list:\n",
    "        return one_hot(find_index(input[3],flag_list)[0],11)\n",
    "# def handleLabel(input):\n",
    "#     if input[41] in label_list:\n",
    "#         return one_hot(find_index(input[41],label_list)[0],23)\n",
    "source_file='kddcup.data_10_percent_corrected1.csv'\n",
    "handled_file='kddcup.data_10_percent_corrected2.csv'\n",
    "data_file=open(handled_file,'w',newline='')\n",
    "with open(source_file,'r') as data_source:\n",
    "        csv_reader=csv.reader(data_source)\n",
    "        csv_writer=csv.writer(data_file)\n",
    "        count=0   #记录数据的行数，初始化为0\n",
    "        for row in csv_reader:\n",
    "#                 temp_line=np.array(row)   #将每行数据存入temp_line数组里\n",
    "            temp_line=[]\n",
    "            temp_line.append(row[0])\n",
    "            temp_line.extend(handleProtocol(row))   #将源文件行中3种协议类型转换成数字标识\n",
    "            temp_line.extend(handleService(row))    #将源文件行中70种网络服务类型转换成数字标识\n",
    "            temp_line.extend(handleFlag(row))       #将源文件行中11种网络连接状态转换成数字标识\n",
    "            temp_line.extend(row[4:41])\n",
    "            tmp=find_index(row[41],label_list)[0]\n",
    "            temp_line.append((tmp!=0)==False)   #将源文件行中23种攻击类型转换成数字标识\n",
    "            csv_writer.writerow(temp_line)\n",
    "            print((temp_line))\n",
    "            count+=1\n",
    "            #输出每行数据中所修改后的状态\n",
    "#                 print(count,'status:',temp_line[1],temp_line[2],temp_line[3],temp_line[41])\n",
    "            #输出每行数据中所修改后的状态\n",
    "#         print(count)\n",
    "        data_file.close()"
   ]
  },
  {
   "cell_type": "code",
   "execution_count": null,
   "id": "blessed-fairy",
   "metadata": {},
   "outputs": [],
   "source": [
    "data=pd.read_csv('kddcup.data_10_percent_corrected2.csv')\n",
    "print(data.columns)"
   ]
  },
  {
   "cell_type": "code",
   "execution_count": null,
   "id": "senior-palmer",
   "metadata": {},
   "outputs": [],
   "source": [
    "print(data)"
   ]
  },
  {
   "cell_type": "code",
   "execution_count": null,
   "id": "imposed-olympus",
   "metadata": {},
   "outputs": [],
   "source": [
    "data=pd.read_csv('kddcup.data_10_percent_corrected2.csv')\n",
    "data.columns=range(123)#直接更改列名\n",
    "# data1=data.reindex(columns=range(123))#若是这样复制，得出来的data1数据并没有和data一致\n",
    "# train_part=data.loc[:,:122]#在pandas1.0.0之后，用loc代替ix\n",
    "print(data1.columns)"
   ]
  },
  {
   "cell_type": "code",
   "execution_count": null,
   "id": "white-stockholm",
   "metadata": {},
   "outputs": [],
   "source": [
    "print(data)"
   ]
  },
  {
   "cell_type": "code",
   "execution_count": null,
   "id": "entertaining-fashion",
   "metadata": {},
   "outputs": [],
   "source": [
    "train_part=data.loc[:,:122]\n",
    "train_label=data.loc[:,122]\n",
    "train_part.to_csv('train_10_corrected2.csv')\n",
    "train_label.to_csv('train_10_corrected2_label.csv')"
   ]
  },
  {
   "cell_type": "code",
   "execution_count": null,
   "id": "plain-effort",
   "metadata": {},
   "outputs": [],
   "source": [
    "train_normalize=pd.read_csv('train_10_corrected2.csv')\n",
    "# train_normalize=(train_normalize-train_normalize.mean())/(train_normalize.std())\n",
    "statistics = train_normalize.describe()  # 保存基本统计量\n",
    "\n",
    "statistics.loc['range'] = statistics.loc['max']-statistics.loc['min']  # 极差\n",
    "statistics.loc['var'] = statistics.loc['std']/statistics.loc['mean']  # 变异系数\n",
    "statistics.loc['dis'] = statistics.loc['75%']-statistics.loc['25%']  # 四分位数间距\n",
    "\n",
    "print(statistics)"
   ]
  },
  {
   "cell_type": "code",
   "execution_count": null,
   "id": "unlike-silly",
   "metadata": {},
   "outputs": [],
   "source": [
    "print(train_normalize)"
   ]
  },
  {
   "cell_type": "code",
   "execution_count": null,
   "id": "progressive-dover",
   "metadata": {},
   "outputs": [],
   "source": [
    "from __future__ import print_function\n",
    "mat=train_normalize.corr()"
   ]
  },
  {
   "cell_type": "code",
   "execution_count": null,
   "id": "norwegian-macedonia",
   "metadata": {},
   "outputs": [],
   "source": [
    "print(mat)"
   ]
  },
  {
   "cell_type": "code",
   "execution_count": null,
   "id": "great-sentence",
   "metadata": {},
   "outputs": [],
   "source": [
    "[(i.x,i,y) for i in mat[mat>0.9]]"
   ]
  },
  {
   "cell_type": "code",
   "execution_count": null,
   "id": "applicable-header",
   "metadata": {},
   "outputs": [],
   "source": [
    "print(type(mat))"
   ]
  },
  {
   "cell_type": "code",
   "execution_count": null,
   "id": "dominican-discretion",
   "metadata": {},
   "outputs": [],
   "source": [
    "strong_part=[]\n",
    "for i in range(1,123):\n",
    "    for j in range(1,123):\n",
    "        if mat.loc[i,j]>=0.9:\n",
    "#             strong_part.append(i)\n",
    "            pass"
   ]
  },
  {
   "cell_type": "code",
   "execution_count": null,
   "id": "collective-accountability",
   "metadata": {},
   "outputs": [],
   "source": []
  }
 ],
 "metadata": {
  "kernelspec": {
   "display_name": "Python 3",
   "language": "python",
   "name": "python3"
  },
  "language_info": {
   "codemirror_mode": {
    "name": "ipython",
    "version": 3
   },
   "file_extension": ".py",
   "mimetype": "text/x-python",
   "name": "python",
   "nbconvert_exporter": "python",
   "pygments_lexer": "ipython3",
   "version": "3.7.8"
  }
 },
 "nbformat": 4,
 "nbformat_minor": 5
}
