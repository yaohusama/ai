{
 "cells": [
  {
   "cell_type": "markdown",
   "id": "union-forestry",
   "metadata": {},
   "source": [
    "网络分析（二）定向与非定向\n",
    "       1，network analyst和utility network 根本区别就是是否是定向网络（directed）。utility network主要解决定向问题，也就是说，网络中流动的对象是定向的，比如水流，输水管，油管，供电设备。都是从A地输送到B地。当方向改变时，必须重新进行网络创建。 而network analyst主要解决非定向（non-directed）问题。比如交通。你可以开车在一个十字路口任意转弯，也可以掉头往回走，而这些都是网络本身应具有的特性，没必要根据你的转向重新构建网络。 由于network analyst主要解决交通问题，也可以说是交通网络。\n",
    "       \n",
    "       2，数据集就是为了解决上述问题而创建的不同的数据结构。geomtric networkdataset对应utility network。 network dataset对应非定向网络的network analyst。\n",
    "       \n",
    "       3，数据的连通性指的是几何意义上，数据是否是联通的，说白了就是是不是线是否是相连的。线上的一些点是不是落在了线上。比如十字路口，公交站。\n",
    "       \n",
    "       4，数据连通性通常没有特别好的方法来检查，ArcGIS中提供了一些方法，但可能更多的时间是手动解决：\n",
    "       \n",
    "                  1）：使用拓扑（topology）：对数据创建topology，可以使用的一些规则：Must not have dangles（不能有悬挂线）等线类规则。\n",
    "                  \n",
    "                  2）：使用geometric network：也可以检查一些数据是否连通，伪节点等。\n",
    "                  \n",
    "       5，使用CAD转过来的数据主要看CAD的数字化质量。比如是否连接，是否有悬挂线（比如在交点出线都过了，当然有些悬挂线是正常的，比如死胡同肯定是悬挂线），是否有多部件要素（multi-part）等等。\n",
    "       \n",
    "      另外：进行网络分析另一个很重要的部分就是数据的属性，用来描述通行状态的。这个可以看看姜sir的ESRI培训PPT。"
   ]
  },
  {
   "cell_type": "code",
   "execution_count": null,
   "id": "beginning-conflict",
   "metadata": {},
   "outputs": [],
   "source": []
  }
 ],
 "metadata": {
  "kernelspec": {
   "display_name": "Python 3",
   "language": "python",
   "name": "python3"
  },
  "language_info": {
   "codemirror_mode": {
    "name": "ipython",
    "version": 3
   },
   "file_extension": ".py",
   "mimetype": "text/x-python",
   "name": "python",
   "nbconvert_exporter": "python",
   "pygments_lexer": "ipython3",
   "version": "3.7.8"
  }
 },
 "nbformat": 4,
 "nbformat_minor": 5
}
